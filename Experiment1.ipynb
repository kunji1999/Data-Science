{
  "nbformat": 4,
  "nbformat_minor": 0,
  "metadata": {
    "colab": {
      "name": "Experiment1.ipynb",
      "provenance": [],
      "authorship_tag": "ABX9TyPlOS4/ZjsUmMEpVMpMTS3B",
      "include_colab_link": true
    },
    "kernelspec": {
      "name": "python3",
      "display_name": "Python 3"
    },
    "language_info": {
      "name": "python"
    }
  },
  "cells": [
    {
      "cell_type": "markdown",
      "metadata": {
        "id": "view-in-github",
        "colab_type": "text"
      },
      "source": [
        "<a href=\"https://colab.research.google.com/github/kunji1999/Data-Science/blob/main/Experiment1.ipynb\" target=\"_parent\"><img src=\"https://colab.research.google.com/assets/colab-badge.svg\" alt=\"Open In Colab\"/></a>"
      ]
    },
    {
      "cell_type": "code",
      "metadata": {
        "id": "pcdgrLPnVhWo",
        "colab": {
          "base_uri": "https://localhost:8080/"
        },
        "outputId": "1d485c42-9059-4685-b3ae-1c9393401d7f"
      },
      "source": [
        "a=1\n",
        "print(type(a))\n",
        "b='meenu'\n",
        "print(type(b))\n",
        "c=[1,2]\n",
        "print(type(c))\n",
        "d={1:'kunji',2:'mac'}\n",
        "print(type(d))\n",
        "e=True\n",
        "print(type(e))\n",
        "f=53.7\n",
        "print(type(f))\n",
        "g={\"Kunji\",\"Macku\"}\n",
        "print(type(g))\n",
        "h=(1,2)\n",
        "print(type(h))\n",
        "i=bytes()\n",
        "print(type(i))\n",
        "j=bytearray()\n",
        "print(type(j))\n",
        "k=range(4)\n",
        "print(type(k))\n"
      ],
      "execution_count": null,
      "outputs": [
        {
          "output_type": "stream",
          "name": "stdout",
          "text": [
            "<class 'int'>\n",
            "<class 'str'>\n",
            "<class 'list'>\n",
            "<class 'dict'>\n",
            "<class 'bool'>\n",
            "<class 'float'>\n",
            "<class 'set'>\n",
            "<class 'tuple'>\n",
            "<class 'bytes'>\n",
            "<class 'bytearray'>\n",
            "<class 'range'>\n"
          ]
        }
      ]
    },
    {
      "cell_type": "code",
      "metadata": {
        "colab": {
          "base_uri": "https://localhost:8080/"
        },
        "id": "COCcUz9lYaf9",
        "outputId": "153d4c10-7873-4a17-821e-8bc416def8fa"
      },
      "source": [
        "my_list=['meenu','anu','kunji','ammu']\n",
        "print(my_list[0])\n",
        "print(my_list[2])\n",
        "print(my_list[3])\n",
        "print(my_list[0:2])\n",
        "print(my_list[ : ])\n",
        "print(my_list[-2])"
      ],
      "execution_count": null,
      "outputs": [
        {
          "output_type": "stream",
          "name": "stdout",
          "text": [
            "meenu\n",
            "kunji\n",
            "ammu\n",
            "['meenu', 'anu']\n",
            "['meenu', 'anu', 'kunji', 'ammu']\n",
            "kunji\n"
          ]
        }
      ]
    },
    {
      "cell_type": "code",
      "metadata": {
        "colab": {
          "base_uri": "https://localhost:8080/"
        },
        "id": "lKfUegtlYpAb",
        "outputId": "c30a97aa-4039-4523-844d-c8ae48f36385"
      },
      "source": [
        "d={1:'meenu',2:'kunji',3:'sree'}\n",
        "print(d)\n",
        "print('1st name is '+d[1])\n",
        "print('4th name is '+d[2])\n",
        "print(d.keys())\n",
        "print(d.values())\n"
      ],
      "execution_count": null,
      "outputs": [
        {
          "output_type": "stream",
          "name": "stdout",
          "text": [
            "{1: 'meenu', 2: 'kunji', 3: 'sree'}\n",
            "1st name is meenu\n",
            "4th name is kunji\n",
            "dict_keys([1, 2, 3])\n",
            "dict_values(['meenu', 'kunji', 'sree'])\n"
          ]
        }
      ]
    },
    {
      "cell_type": "code",
      "metadata": {
        "colab": {
          "base_uri": "https://localhost:8080/"
        },
        "id": "XYyZRjypY3Tf",
        "outputId": "38363240-9179-4f13-8ca4-f0fc7ad27db7"
      },
      "source": [
        "def add(a,b):\n",
        "  return a+b\n",
        "res=add(2,3)\n",
        "print(\"sum \", res)"
      ],
      "execution_count": null,
      "outputs": [
        {
          "output_type": "stream",
          "name": "stdout",
          "text": [
            "sum  5\n"
          ]
        }
      ]
    },
    {
      "cell_type": "code",
      "metadata": {
        "colab": {
          "base_uri": "https://localhost:8080/"
        },
        "id": "0qDRf433Y8FH",
        "outputId": "c3a434c1-2825-420f-c46b-6a774ce49a90"
      },
      "source": [
        "def recfact(n):\n",
        "  if n==1:\n",
        "    return n\n",
        "  else:\n",
        "    return n*recfact(n-1)\n",
        "num=7\n",
        "if num<0:\n",
        "  print(\"Factorial not possible...!\")\n",
        "elif num==0:\n",
        "  print(\"Factorial of 0 is 1.\")\n",
        "else:\n",
        "  print(\"Factorial of \",num,\" is \",recfact(num))\n"
      ],
      "execution_count": null,
      "outputs": [
        {
          "output_type": "stream",
          "name": "stdout",
          "text": [
            "Factorial of  7  is  5040\n"
          ]
        }
      ]
    }
  ]
}