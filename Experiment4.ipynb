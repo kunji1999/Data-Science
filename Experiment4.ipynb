{
  "nbformat": 4,
  "nbformat_minor": 0,
  "metadata": {
    "colab": {
      "name": "Experiment4.ipynb",
      "provenance": [],
      "authorship_tag": "ABX9TyPZcOHeo2HEAepr6wIhze7w",
      "include_colab_link": true
    },
    "kernelspec": {
      "name": "python3",
      "display_name": "Python 3"
    },
    "language_info": {
      "name": "python"
    }
  },
  "cells": [
    {
      "cell_type": "markdown",
      "metadata": {
        "id": "view-in-github",
        "colab_type": "text"
      },
      "source": [
        "<a href=\"https://colab.research.google.com/github/kunji1999/Data-Science/blob/main/Experiment4.ipynb\" target=\"_parent\"><img src=\"https://colab.research.google.com/assets/colab-badge.svg\" alt=\"Open In Colab\"/></a>"
      ]
    },
    {
      "cell_type": "code",
      "metadata": {
        "id": "KUhIO5v0MQKv"
      },
      "source": [
        "import matplotlib.pyplot as plt\n",
        "import numpy as np\n",
        "import seaborn as sns\n",
        "import pandas as pd\n",
        "from scipy import  stats"
      ],
      "execution_count": null,
      "outputs": []
    },
    {
      "cell_type": "code",
      "metadata": {
        "colab": {
          "base_uri": "https://localhost:8080/"
        },
        "id": "w8BeLMfyYYrK",
        "outputId": "bc7f2100-642f-43cf-e342-0b7dfcf5acbf"
      },
      "source": [
        "df=pd.read_csv(\"IMDbmovies.csv\")\n",
        "print(df)"
      ],
      "execution_count": null,
      "outputs": [
        {
          "output_type": "stream",
          "name": "stderr",
          "text": [
            "/usr/local/lib/python3.7/dist-packages/IPython/core/interactiveshell.py:2718: DtypeWarning: Columns (3) have mixed types.Specify dtype option on import or set low_memory=False.\n",
            "  interactivity=interactivity, compiler=compiler, result=result)\n"
          ]
        },
        {
          "output_type": "stream",
          "name": "stdout",
          "text": [
            "                                                                                                                                                                                                ylan's previous movie  ... 10.0.1\n",
            "tt0234262 Mon curé chez les Thaïlandaises Mon curé chez les Thaïlandaises 1983 1983-07-13 Comedy             95  France          French        Robert Thomas                             Robert Thomas, Robert Thomas  ...    NaN\n",
            "tt0234263 Scuola di nudisti               Mon curé chez les nudistes      1982 1982-07-28 Comedy             83  France          French        Robert Thomas                                            Robert Thomas  ...    NaN\n",
            "tt0234288 Musíme si pomáhat               Musíme si pomáhat               2000 2000-03-16 Comedy, Drama, War 120 Czech Republic  German, Czech Jan Hrebejk                               Jan Hrebejk, Petr Jarchovský  ...   49.0\n",
            "tt0234304 Nabbie no koi                   Nabbie no koi                   1999 1999-12-04 Drama              92  Japan           Japanese      Yuji Nakae                                                  Yuji Nakae  ...    2.0\n",
            "tt0234324 Necrophobia                     Necrophobia                     1995 1995       Horror             60  Netherlands     Dutch         Frank van Geloven, Edwin Visser        Frank van Geloven, Edwin Visser  ...    4.0\n",
            "...                                                                                                                                                                                                               ...  ...    ...\n",
            "tt9908390 Le lion                         Le lion                         2020 2020-01-29 Comedy             95  France, Belgium French        Ludovic Colbeau-Justin           Alexandre Coquelle, Matthieu Le Naour  ...    4.0\n",
            "tt9911196 De Beentjes van Sint-Hildegard  De Beentjes van Sint-Hildegard  2020 2020-02-13 Comedy, Drama      103 Netherlands     German, Dutch Johan Nijenhuis                           Radek Bajgar, Herman Finkers  ...    4.0\n",
            "tt9911774 Padmavyuhathile Abhimanyu       Padmavyuhathile Abhimanyu       2019 2019-03-08 Drama              130 India           Malayalam     Vineesh Aaradya                       Vineesh Aaradya, Vineesh Aaradya  ...    NaN\n",
            "tt9914286 Sokagin Çocuklari               Sokagin Çocuklari               2019 2019-03-15 Drama, Family      98  Turkey          Turkish       Ahmet Faik Akinci                       Ahmet Faik Akinci, Kasim Uçkan  ...    NaN\n",
            "tt9914942 La vida sense la Sara Amat      La vida sense la Sara Amat      2019 2020-02-05 Drama              74  Spain           Catalan       Laura Jou                                         Coral Cruz, Pep Puig  ...    2.0\n",
            "\n",
            "[48369 rows x 12 columns]\n"
          ]
        }
      ]
    },
    {
      "cell_type": "code",
      "metadata": {
        "colab": {
          "base_uri": "https://localhost:8080/"
        },
        "id": "ywz3ehvpZqFF",
        "outputId": "c9b7ff17-c7ff-425a-dddb-447eee66d871"
      },
      "source": [
        "print(df.head(4))"
      ],
      "execution_count": null,
      "outputs": [
        {
          "output_type": "stream",
          "name": "stdout",
          "text": [
            "                                                                                                                                                                    ylan's previous movie  ... 10.0.1\n",
            "tt0234262 Mon curé chez les Thaïlandaises Mon curé chez les Thaïlandaises 1983 1983-07-13 Comedy             95  France         French        Robert Thomas  Robert Thomas, Robert Thomas  ...    NaN\n",
            "tt0234263 Scuola di nudisti               Mon curé chez les nudistes      1982 1982-07-28 Comedy             83  France         French        Robert Thomas                 Robert Thomas  ...    NaN\n",
            "tt0234288 Musíme si pomáhat               Musíme si pomáhat               2000 2000-03-16 Comedy, Drama, War 120 Czech Republic German, Czech Jan Hrebejk    Jan Hrebejk, Petr Jarchovský  ...   49.0\n",
            "tt0234304 Nabbie no koi                   Nabbie no koi                   1999 1999-12-04 Drama              92  Japan          Japanese      Yuji Nakae                       Yuji Nakae  ...    2.0\n",
            "\n",
            "[4 rows x 12 columns]\n"
          ]
        }
      ]
    },
    {
      "cell_type": "code",
      "metadata": {
        "colab": {
          "base_uri": "https://localhost:8080/"
        },
        "id": "syibRHJ9Z0xJ",
        "outputId": "363b4d0b-ef44-4302-f429-84d5727d00b4"
      },
      "source": [
        "print(df.describe)"
      ],
      "execution_count": null,
      "outputs": [
        {
          "output_type": "stream",
          "name": "stdout",
          "text": [
            "<bound method NDFrame.describe of                                                                                                                                                                                                 ylan's previous movie  ... 10.0.1\n",
            "tt0234262 Mon curé chez les Thaïlandaises Mon curé chez les Thaïlandaises 1983 1983-07-13 Comedy             95  France          French        Robert Thomas                             Robert Thomas, Robert Thomas  ...    NaN\n",
            "tt0234263 Scuola di nudisti               Mon curé chez les nudistes      1982 1982-07-28 Comedy             83  France          French        Robert Thomas                                            Robert Thomas  ...    NaN\n",
            "tt0234288 Musíme si pomáhat               Musíme si pomáhat               2000 2000-03-16 Comedy, Drama, War 120 Czech Republic  German, Czech Jan Hrebejk                               Jan Hrebejk, Petr Jarchovský  ...   49.0\n",
            "tt0234304 Nabbie no koi                   Nabbie no koi                   1999 1999-12-04 Drama              92  Japan           Japanese      Yuji Nakae                                                  Yuji Nakae  ...    2.0\n",
            "tt0234324 Necrophobia                     Necrophobia                     1995 1995       Horror             60  Netherlands     Dutch         Frank van Geloven, Edwin Visser        Frank van Geloven, Edwin Visser  ...    4.0\n",
            "...                                                                                                                                                                                                               ...  ...    ...\n",
            "tt9908390 Le lion                         Le lion                         2020 2020-01-29 Comedy             95  France, Belgium French        Ludovic Colbeau-Justin           Alexandre Coquelle, Matthieu Le Naour  ...    4.0\n",
            "tt9911196 De Beentjes van Sint-Hildegard  De Beentjes van Sint-Hildegard  2020 2020-02-13 Comedy, Drama      103 Netherlands     German, Dutch Johan Nijenhuis                           Radek Bajgar, Herman Finkers  ...    4.0\n",
            "tt9911774 Padmavyuhathile Abhimanyu       Padmavyuhathile Abhimanyu       2019 2019-03-08 Drama              130 India           Malayalam     Vineesh Aaradya                       Vineesh Aaradya, Vineesh Aaradya  ...    NaN\n",
            "tt9914286 Sokagin Çocuklari               Sokagin Çocuklari               2019 2019-03-15 Drama, Family      98  Turkey          Turkish       Ahmet Faik Akinci                       Ahmet Faik Akinci, Kasim Uçkan  ...    NaN\n",
            "tt9914942 La vida sense la Sara Amat      La vida sense la Sara Amat      2019 2020-02-05 Drama              74  Spain           Catalan       Laura Jou                                         Coral Cruz, Pep Puig  ...    2.0\n",
            "\n",
            "[48369 rows x 12 columns]>\n"
          ]
        }
      ]
    },
    {
      "cell_type": "code",
      "metadata": {
        "colab": {
          "base_uri": "https://localhost:8080/"
        },
        "id": "2X26ulf7bSh6",
        "outputId": "23aaab4e-5b81-4bad-a656-7000c89d18b8"
      },
      "source": [
        "print(\"column names=\",df.columns.values)"
      ],
      "execution_count": null,
      "outputs": [
        {
          "output_type": "stream",
          "name": "stdout",
          "text": [
            "column names= [\"ylan's previous movie\" ' Kasaba. It is about the movie director'\n",
            " ' Muzaffer' ' going back to ...\"' '7.4' '4773' 'Unnamed: 6' 'Unnamed: 7'\n",
            " 'Unnamed: 8' '75.0' '10.0' '10.0.1']\n"
          ]
        }
      ]
    },
    {
      "cell_type": "code",
      "metadata": {
        "colab": {
          "base_uri": "https://localhost:8080/"
        },
        "id": "tIwnXTvXbqTx",
        "outputId": "c7a39424-35f6-4e74-cd61-ba222140134b"
      },
      "source": [
        "#\n",
        "df = pd.read_csv('IMDbmovies.csv')\n",
        "print(df.to_string())"
      ],
      "execution_count": null,
      "outputs": [
        {
          "output_type": "stream",
          "name": "stderr",
          "text": [
            "/usr/local/lib/python3.7/dist-packages/IPython/core/interactiveshell.py:2718: DtypeWarning: Columns (3) have mixed types.Specify dtype option on import or set low_memory=False.\n",
            "  interactivity=interactivity, compiler=compiler, result=result)\n",
            "IOPub data rate exceeded.\n",
            "The notebook server will temporarily stop sending output\n",
            "to the client in order to avoid crashing it.\n",
            "To change this limit, set the config variable\n",
            "`--NotebookApp.iopub_data_rate_limit`.\n",
            "\n",
            "Current values:\n",
            "NotebookApp.iopub_data_rate_limit=1000000.0 (bytes/sec)\n",
            "NotebookApp.rate_limit_window=3.0 (secs)\n",
            "\n"
          ]
        }
      ]
    }
  ]
}