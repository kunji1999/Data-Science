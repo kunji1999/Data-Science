{
  "nbformat": 4,
  "nbformat_minor": 0,
  "metadata": {
    "colab": {
      "name": "Experiment4.ipynb",
      "provenance": [],
      "collapsed_sections": [],
      "authorship_tag": "ABX9TyOToFeQfyYU9wpQZ6cWzqBY",
      "include_colab_link": true
    },
    "kernelspec": {
      "name": "python3",
      "display_name": "Python 3"
    },
    "language_info": {
      "name": "python"
    }
  },
  "cells": [
    {
      "cell_type": "markdown",
      "metadata": {
        "id": "view-in-github",
        "colab_type": "text"
      },
      "source": [
        "<a href=\"https://colab.research.google.com/github/kunji1999/Data-Science/blob/main/Experiment4.ipynb\" target=\"_parent\"><img src=\"https://colab.research.google.com/assets/colab-badge.svg\" alt=\"Open In Colab\"/></a>"
      ]
    },
    {
      "cell_type": "code",
      "metadata": {
        "colab": {
          "base_uri": "https://localhost:8080/"
        },
        "id": "u_4m9n8ttU8f",
        "outputId": "eff3fa8e-9ed5-445a-ec5c-c2d60ca8d624"
      },
      "source": [
        "import pandas as pd\n",
        "import numpy as np\n",
        "import matplotlib.pyplot as plt\n",
        "import seaborn as sns\n",
        "from scipy import stats\n",
        "\n",
        "movies=pd.read_csv(\"IMDb movies.csv\")"
      ],
      "execution_count": 38,
      "outputs": [
        {
          "output_type": "stream",
          "name": "stderr",
          "text": [
            "/usr/local/lib/python3.7/dist-packages/IPython/core/interactiveshell.py:2718: DtypeWarning: Columns (3) have mixed types.Specify dtype option on import or set low_memory=False.\n",
            "  interactivity=interactivity, compiler=compiler, result=result)\n"
          ]
        }
      ]
    },
    {
      "cell_type": "code",
      "metadata": {
        "colab": {
          "base_uri": "https://localhost:8080/"
        },
        "id": "GCJ4PXnB3gG4",
        "outputId": "fba4c25c-41df-480e-ac04-fc6f6e1c4217"
      },
      "source": [
        "print(movies.head(3))"
      ],
      "execution_count": 39,
      "outputs": [
        {
          "output_type": "stream",
          "name": "stdout",
          "text": [
            "                                                                                                                                                                    ylan's previous movie  ... 10.0.1\n",
            "tt0234262 Mon curé chez les Thaïlandaises Mon curé chez les Thaïlandaises 1983 1983-07-13 Comedy             95  France         French        Robert Thomas  Robert Thomas, Robert Thomas  ...    NaN\n",
            "tt0234263 Scuola di nudisti               Mon curé chez les nudistes      1982 1982-07-28 Comedy             83  France         French        Robert Thomas                 Robert Thomas  ...    NaN\n",
            "tt0234288 Musíme si pomáhat               Musíme si pomáhat               2000 2000-03-16 Comedy, Drama, War 120 Czech Republic German, Czech Jan Hrebejk    Jan Hrebejk, Petr Jarchovský  ...   49.0\n",
            "\n",
            "[3 rows x 12 columns]\n"
          ]
        }
      ]
    },
    {
      "cell_type": "code",
      "metadata": {
        "colab": {
          "base_uri": "https://localhost:8080/"
        },
        "id": "1L6ARZtI3mYG",
        "outputId": "6dab91b5-8d9e-4fa7-ede4-b4df6762f57a"
      },
      "source": [
        "print(movies.describe())"
      ],
      "execution_count": 40,
      "outputs": [
        {
          "output_type": "stream",
          "name": "stdout",
          "text": [
            "                7.4          4773         75.0          10.0        10.0.1\n",
            "count  48369.000000  4.836900e+04  9467.000000  42730.000000  41418.000000\n",
            "mean       5.726254  1.075149e+04    54.781874     52.587573     33.776353\n",
            "std        1.311793  5.463927e+04    17.185281    208.816778     71.936873\n",
            "min        1.000000  9.900000e+01     1.000000      1.000000      1.000000\n",
            "25%        5.000000  2.110000e+02    43.000000      3.000000      3.000000\n",
            "50%        5.900000  5.070000e+02    56.000000      8.000000      9.000000\n",
            "75%        6.700000  1.869000e+03    68.000000     25.000000     26.000000\n",
            "max        9.900000  2.241615e+06   100.000000  10472.000000    999.000000\n"
          ]
        }
      ]
    },
    {
      "cell_type": "code",
      "metadata": {
        "colab": {
          "base_uri": "https://localhost:8080/"
        },
        "id": "ASAN4Yx73o4f",
        "outputId": "333f45cf-471b-49a2-ecf7-aff3d52b906a"
      },
      "source": [
        "print(\"column name: %s\" %movies.columns.values)"
      ],
      "execution_count": 41,
      "outputs": [
        {
          "output_type": "stream",
          "name": "stdout",
          "text": [
            "column name: [\"ylan's previous movie\" ' Kasaba. It is about the movie director'\n",
            " ' Muzaffer' ' going back to ...\"' '7.4' '4773' 'Unnamed: 6' 'Unnamed: 7'\n",
            " 'Unnamed: 8' '75.0' '10.0' '10.0.1']\n"
          ]
        }
      ]
    },
    {
      "cell_type": "code",
      "metadata": {
        "colab": {
          "base_uri": "https://localhost:8080/"
        },
        "id": "OgKO0SGE3u2e",
        "outputId": "dfa7ed43-4a74-471b-a722-f20d5cb3bf6d"
      },
      "source": [
        "print(movies.dtypes)\n",
        "print(movies.shape)"
      ],
      "execution_count": 42,
      "outputs": [
        {
          "output_type": "stream",
          "name": "stdout",
          "text": [
            "ylan's previous movie                       object\n",
            " Kasaba. It is about the movie director     object\n",
            " Muzaffer                                   object\n",
            " going back to ...\"                         object\n",
            "7.4                                        float64\n",
            "4773                                         int64\n",
            "Unnamed: 6                                  object\n",
            "Unnamed: 7                                  object\n",
            "Unnamed: 8                                  object\n",
            "75.0                                       float64\n",
            "10.0                                       float64\n",
            "10.0.1                                     float64\n",
            "dtype: object\n",
            "(48369, 12)\n"
          ]
        }
      ]
    },
    {
      "cell_type": "code",
      "metadata": {
        "colab": {
          "base_uri": "https://localhost:8080/"
        },
        "id": "3ES1xQ5H32Qu",
        "outputId": "de3890b6-e946-4690-8b68-5ada1393c428"
      },
      "source": [
        "print(\"null value:\\n\")\n",
        "print(movies.isna()) #same as movies.isnull().sum()\n",
        "print(movies.isna().sum())\n",
        "print(\"null values %s\" %movies.isnull().values.any())\n",
        "print(\"null values %s\"%movies.isna().sum().sum())\n",
        "print(movies.describe())"
      ],
      "execution_count": 43,
      "outputs": [
        {
          "output_type": "stream",
          "name": "stdout",
          "text": [
            "null value:\n",
            "\n",
            "                                                                                                                                                                                ylan's previous movie  ...  10.0.1\n",
            "tt0234262 Mon curé chez les Thaïlandaises Mon curé chez les Thaïlandaises 1983 1983-07-13 Comedy             95  France          French        Robert Thomas                                    False  ...    True\n",
            "tt0234263 Scuola di nudisti               Mon curé chez les nudistes      1982 1982-07-28 Comedy             83  France          French        Robert Thomas                                    False  ...    True\n",
            "tt0234288 Musíme si pomáhat               Musíme si pomáhat               2000 2000-03-16 Comedy, Drama, War 120 Czech Republic  German, Czech Jan Hrebejk                                      False  ...   False\n",
            "tt0234304 Nabbie no koi                   Nabbie no koi                   1999 1999-12-04 Drama              92  Japan           Japanese      Yuji Nakae                                       False  ...   False\n",
            "tt0234324 Necrophobia                     Necrophobia                     1995 1995       Horror             60  Netherlands     Dutch         Frank van Geloven, Edwin Visser                  False  ...   False\n",
            "...                                                                                                                                                                                               ...  ...     ...\n",
            "tt9908390 Le lion                         Le lion                         2020 2020-01-29 Comedy             95  France, Belgium French        Ludovic Colbeau-Justin                           False  ...   False\n",
            "tt9911196 De Beentjes van Sint-Hildegard  De Beentjes van Sint-Hildegard  2020 2020-02-13 Comedy, Drama      103 Netherlands     German, Dutch Johan Nijenhuis                                  False  ...   False\n",
            "tt9911774 Padmavyuhathile Abhimanyu       Padmavyuhathile Abhimanyu       2019 2019-03-08 Drama              130 India           Malayalam     Vineesh Aaradya                                  False  ...    True\n",
            "tt9914286 Sokagin Çocuklari               Sokagin Çocuklari               2019 2019-03-15 Drama, Family      98  Turkey          Turkish       Ahmet Faik Akinci                                False  ...    True\n",
            "tt9914942 La vida sense la Sara Amat      La vida sense la Sara Amat      2019 2020-02-05 Drama              74  Spain           Catalan       Laura Jou                                        False  ...   False\n",
            "\n",
            "[48369 rows x 12 columns]\n",
            "ylan's previous movie                       1277\n",
            " Kasaba. It is about the movie director     3159\n",
            " Muzaffer                                     61\n",
            " going back to ...\"                         1457\n",
            "7.4                                            0\n",
            "4773                                           0\n",
            "Unnamed: 6                                 32657\n",
            "Unnamed: 7                                 39652\n",
            "Unnamed: 8                                 23624\n",
            "75.0                                       38902\n",
            "10.0                                        5639\n",
            "10.0.1                                      6951\n",
            "dtype: int64\n",
            "null values True\n",
            "null values 153379\n",
            "                7.4          4773         75.0          10.0        10.0.1\n",
            "count  48369.000000  4.836900e+04  9467.000000  42730.000000  41418.000000\n",
            "mean       5.726254  1.075149e+04    54.781874     52.587573     33.776353\n",
            "std        1.311793  5.463927e+04    17.185281    208.816778     71.936873\n",
            "min        1.000000  9.900000e+01     1.000000      1.000000      1.000000\n",
            "25%        5.000000  2.110000e+02    43.000000      3.000000      3.000000\n",
            "50%        5.900000  5.070000e+02    56.000000      8.000000      9.000000\n",
            "75%        6.700000  1.869000e+03    68.000000     25.000000     26.000000\n",
            "max        9.900000  2.241615e+06   100.000000  10472.000000    999.000000\n"
          ]
        }
      ]
    },
    {
      "cell_type": "code",
      "metadata": {
        "id": "3DZOJS2k38io"
      },
      "source": [
        "#clean the dataset by droping the na values\n",
        "clean_movies=movies.dropna(how='any')\n",
        "movies=movies.dropna(how='any')"
      ],
      "execution_count": 45,
      "outputs": []
    },
    {
      "cell_type": "code",
      "metadata": {
        "colab": {
          "base_uri": "https://localhost:8080/"
        },
        "id": "1Bvb9Ar64B8X",
        "outputId": "9317c412-76de-4320-ca78-178b1ad56cf8"
      },
      "source": [
        "print(clean_movies.shape)"
      ],
      "execution_count": 46,
      "outputs": [
        {
          "output_type": "stream",
          "name": "stdout",
          "text": [
            "(4384, 12)\n"
          ]
        }
      ]
    },
    {
      "cell_type": "code",
      "metadata": {
        "id": "miRBj07i4EGX"
      },
      "source": [
        "#use fillna attribute of pandas\n",
        "#for filling up missing values in all columns\n",
        "movies.fillna(value=0,inplace=True)"
      ],
      "execution_count": 48,
      "outputs": []
    },
    {
      "cell_type": "code",
      "metadata": {
        "id": "1XC6g3Ca4LBc"
      },
      "source": [
        "#for some specific columns we can just choose select those columns\n",
        "movies[['gross', 'budget']]=movies[['gross', 'budget']].fillna(value=0)"
      ],
      "execution_count": null,
      "outputs": []
    }
  ]
}