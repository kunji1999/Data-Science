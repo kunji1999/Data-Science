{
  "nbformat": 4,
  "nbformat_minor": 0,
  "metadata": {
    "colab": {
      "name": "exp22.ipynb",
      "provenance": [],
      "collapsed_sections": [],
      "mount_file_id": "1GNQ8cxK0wPSUJ3qDqD7TrkRl4yUN_9iJ",
      "authorship_tag": "ABX9TyNnzbhsZU2SR9dQO5oxZY5c",
      "include_colab_link": true
    },
    "kernelspec": {
      "name": "python3",
      "display_name": "Python 3"
    },
    "language_info": {
      "name": "python"
    }
  },
  "cells": [
    {
      "cell_type": "markdown",
      "metadata": {
        "id": "view-in-github",
        "colab_type": "text"
      },
      "source": [
        "<a href=\"https://colab.research.google.com/github/kunji1999/Data-Science/blob/main/exp22.ipynb\" target=\"_parent\"><img src=\"https://colab.research.google.com/assets/colab-badge.svg\" alt=\"Open In Colab\"/></a>"
      ]
    },
    {
      "cell_type": "markdown",
      "metadata": {
        "id": "DmhP7Nmk1XZ0"
      },
      "source": [
        "\n",
        "\n",
        "dot product\n"
      ]
    },
    {
      "cell_type": "code",
      "metadata": {
        "id": "z0AugML5Rg-u",
        "colab": {
          "base_uri": "https://localhost:8080/"
        },
        "outputId": "3bb1dc3a-8f67-48d1-91af-a87cb4cabf91"
      },
      "source": [
        "import numpy as np\n",
        "\n",
        "A = [[12, 7, 3], [4, 5, 6], [7, 8, 9]]\n",
        "B = [[5, 8, 1, 2], [6, 7, 3, 0], [4, 5, 9, 1]]\n",
        "\n",
        "result= [[0,0,0,0], [0,0,0,0], [0,0,0,0]]\n",
        "result= np.dot(A,B)\n",
        "\n",
        "for p in result:\n",
        "    print(p)"
      ],
      "execution_count": null,
      "outputs": [
        {
          "output_type": "stream",
          "name": "stdout",
          "text": [
            "[114 160  60  27]\n",
            "[74 97 73 14]\n",
            "[119 157 112  23]\n"
          ]
        }
      ]
    },
    {
      "cell_type": "markdown",
      "metadata": {
        "id": "z8MDQGDA1WPP"
      },
      "source": [
        "\n",
        "\n",
        "\n",
        "Element wise multiplication\n"
      ]
    },
    {
      "cell_type": "code",
      "metadata": {
        "colab": {
          "base_uri": "https://localhost:8080/"
        },
        "id": "JsZGF5Rp13WA",
        "outputId": "d13b8200-cf44-496c-e50f-c3dcff7fcc62"
      },
      "source": [
        "import numpy as np\n",
        "in_arr1=np.matrix([[2, -7, 5], [-6, 2, 0]])\n",
        "in_arr2 = np.matrix([[0, -7, 8], [5, -2, 9]])\n",
        "\t\n",
        "print (\"1st Input array : \", in_arr1)\n",
        "print (\"2nd Input array : \", in_arr2)\n",
        "\n",
        "out_arr=np.array(in_arr1)*np.array(in_arr2)\n",
        "print (\"Resultant output array: \", out_arr)\n"
      ],
      "execution_count": null,
      "outputs": [
        {
          "output_type": "stream",
          "name": "stdout",
          "text": [
            "1st Input array :  [[ 2 -7  5]\n",
            " [-6  2  0]]\n",
            "2nd Input array :  [[ 0 -7  8]\n",
            " [ 5 -2  9]]\n",
            "Resultant output array:  [[  0  49  40]\n",
            " [-30  -4   0]]\n"
          ]
        }
      ]
    },
    {
      "cell_type": "markdown",
      "metadata": {
        "id": "VWlNZ9TL2j24"
      },
      "source": [
        "Vectorised Sum"
      ]
    },
    {
      "cell_type": "code",
      "metadata": {
        "colab": {
          "base_uri": "https://localhost:8080/"
        },
        "id": "jJR05nIA2iko",
        "outputId": "07358ef8-1eb7-4b1a-ceca-f71b2e76b035"
      },
      "source": [
        "import numpy as np\n",
        "arr2 = np.array([1, 2, 3])\n",
        "s = np.sum(arr2)  \n",
        "print(s)  "
      ],
      "execution_count": 1,
      "outputs": [
        {
          "output_type": "stream",
          "name": "stdout",
          "text": [
            "6\n"
          ]
        }
      ]
    },
    {
      "cell_type": "markdown",
      "metadata": {
        "id": "0vr2yQ0y3VNq"
      },
      "source": [
        "Outer product"
      ]
    },
    {
      "cell_type": "code",
      "metadata": {
        "colab": {
          "base_uri": "https://localhost:8080/"
        },
        "id": "WiuUXbA23CvN",
        "outputId": "e9b1a5ae-bf25-497a-961a-cdf490ed5e22"
      },
      "source": [
        "import numpy as np\n",
        "x = np.array([1, 4, 0], float)\n",
        "y = np.array([2, 2, 1], float)\n",
        "print(\"Matrices and vectors.\")\n",
        "print(\"x:\")\n",
        "print(x)\n",
        "print(\"y:\")\n",
        "print(y)\n",
        "print(\"Outer product of x and y:\")\n",
        "print(np.outer(x, y))\n"
      ],
      "execution_count": null,
      "outputs": [
        {
          "output_type": "stream",
          "name": "stdout",
          "text": [
            "Matrices and vectors.\n",
            "x:\n",
            "[1. 4. 0.]\n",
            "y:\n",
            "[2. 2. 1.]\n",
            "Outer product of x and y:\n",
            "[[2. 2. 1.]\n",
            " [8. 8. 4.]\n",
            " [0. 0. 0.]]\n"
          ]
        }
      ]
    },
    {
      "cell_type": "markdown",
      "metadata": {
        "id": "NOwGHvvR4Jss"
      },
      "source": [
        "B. transpose of a matrix"
      ]
    },
    {
      "cell_type": "code",
      "metadata": {
        "colab": {
          "base_uri": "https://localhost:8080/"
        },
        "id": "MfbSpJvk4FY7",
        "outputId": "25a99f1f-a838-4ba4-8f73-f8661d48ce94"
      },
      "source": [
        "import numpy as np\n",
        "gfg = np.matrix('[4, 1; 12, 3]')\n",
        "geek = gfg.transpose()\n",
        "print(geek)"
      ],
      "execution_count": null,
      "outputs": [
        {
          "output_type": "stream",
          "name": "stdout",
          "text": [
            "[[ 4 12]\n",
            " [ 1  3]]\n"
          ]
        }
      ]
    },
    {
      "cell_type": "markdown",
      "metadata": {
        "id": "_fQvsFXK4gFl"
      },
      "source": [
        "single value decomposition."
      ]
    },
    {
      "cell_type": "code",
      "metadata": {
        "colab": {
          "base_uri": "https://localhost:8080/"
        },
        "id": "NlfJNusI4i3B",
        "outputId": "36bc6abd-17ad-48b5-f9f6-fd4dfe73b47e"
      },
      "source": [
        "\n",
        "from numpy import array\n",
        "from scipy.linalg import svd\n",
        "\n",
        "A = array([[1, 2], [3, 4], [5, 6]])\n",
        "print(A)\n",
        "U, s, VT = svd(A)\n",
        "print(U)\n",
        "print(s)\n",
        "print(VT)"
      ],
      "execution_count": null,
      "outputs": [
        {
          "output_type": "stream",
          "name": "stdout",
          "text": [
            "[[1 2]\n",
            " [3 4]\n",
            " [5 6]]\n",
            "[[-0.2298477   0.88346102  0.40824829]\n",
            " [-0.52474482  0.24078249 -0.81649658]\n",
            " [-0.81964194 -0.40189603  0.40824829]]\n",
            "[9.52551809 0.51430058]\n",
            "[[-0.61962948 -0.78489445]\n",
            " [-0.78489445  0.61962948]]\n"
          ]
        }
      ]
    }
  ]
}