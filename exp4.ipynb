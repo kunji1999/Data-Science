{
  "nbformat": 4,
  "nbformat_minor": 0,
  "metadata": {
    "colab": {
      "name": "exp4.ipynb",
      "provenance": [],
      "collapsed_sections": [],
      "include_colab_link": true
    },
    "kernelspec": {
      "name": "python3",
      "display_name": "Python 3"
    },
    "language_info": {
      "name": "python"
    }
  },
  "cells": [
    {
      "cell_type": "markdown",
      "metadata": {
        "id": "view-in-github",
        "colab_type": "text"
      },
      "source": [
        "<a href=\"https://colab.research.google.com/github/kunji1999/Data-Science/blob/main/exp4.ipynb\" target=\"_parent\"><img src=\"https://colab.research.google.com/assets/colab-badge.svg\" alt=\"Open In Colab\"/></a>"
      ]
    },
    {
      "cell_type": "code",
      "metadata": {
        "id": "zeLXsjnBRs1b"
      },
      "source": [
        "import pandas as pd\n",
        "import numpy as np\n",
        "import matplotlib.pyplot as plt\n",
        "import seaborn as sns\n",
        "from scipy import stats\n",
        "\n"
      ],
      "execution_count": null,
      "outputs": []
    },
    {
      "cell_type": "code",
      "metadata": {
        "id": "XigA2DSiVo8O"
      },
      "source": [
        "movies= pd.read_csv(\"movie_metadata.csv\")"
      ],
      "execution_count": null,
      "outputs": []
    },
    {
      "cell_type": "code",
      "metadata": {
        "id": "yA3QXudmVvKa",
        "colab": {
          "base_uri": "https://localhost:8080/"
        },
        "outputId": "62326b55-1859-4973-b23c-6685f6ff69dd"
      },
      "source": [
        "#print the first few with headers \n",
        "print(movies.head(5))"
      ],
      "execution_count": null,
      "outputs": [
        {
          "output_type": "stream",
          "name": "stdout",
          "text": [
            "  imdb_title_id  ... reviews_from_critics\n",
            "0     tt0000009  ...                  2.0\n",
            "1     tt0000574  ...                  7.0\n",
            "2     tt0001892  ...                  2.0\n",
            "3     tt0002101  ...                  3.0\n",
            "4     tt0002130  ...                 14.0\n",
            "\n",
            "[5 rows x 22 columns]\n"
          ]
        }
      ]
    },
    {
      "cell_type": "code",
      "metadata": {
        "colab": {
          "base_uri": "https://localhost:8080/"
        },
        "id": "HymRK3cEWsOx",
        "outputId": "e24359b0-7687-49ab-ca5e-35d4d1509bb1"
      },
      "source": [
        "#discriptive statistics\n",
        "print(movies.describe())"
      ],
      "execution_count": null,
      "outputs": [
        {
          "output_type": "stream",
          "name": "stdout",
          "text": [
            "       num_critic_for_reviews     duration  ...  aspect_ratio  movie_facebook_likes\n",
            "count             4993.000000  5028.000000  ...   4714.000000           5043.000000\n",
            "mean               140.194272   107.201074  ...      2.220403           7525.964505\n",
            "std                121.601675    25.197441  ...      1.385113          19320.445110\n",
            "min                  1.000000     7.000000  ...      1.180000              0.000000\n",
            "25%                 50.000000    93.000000  ...      1.850000              0.000000\n",
            "50%                110.000000   103.000000  ...      2.350000            166.000000\n",
            "75%                195.000000   118.000000  ...      2.350000           3000.000000\n",
            "max                813.000000   511.000000  ...     16.000000         349000.000000\n",
            "\n",
            "[8 rows x 16 columns]\n"
          ]
        }
      ]
    },
    {
      "cell_type": "code",
      "metadata": {
        "colab": {
          "base_uri": "https://localhost:8080/"
        },
        "id": "BHfBKQSsZjiO",
        "outputId": "489e626f-8150-4b67-8f07-c6ea07c31c2f"
      },
      "source": [
        "#check the column name\n",
        "print(\"column names:%s\" %movies.columns.values)"
      ],
      "execution_count": null,
      "outputs": [
        {
          "output_type": "stream",
          "name": "stdout",
          "text": [
            "column names:['color' 'director_name' 'num_critic_for_reviews' 'duration'\n",
            " 'director_facebook_likes' 'actor_3_facebook_likes' 'actor_2_name'\n",
            " 'actor_1_facebook_likes' 'gross' 'genres' 'actor_1_name' 'movie_title'\n",
            " 'num_voted_users' 'cast_total_facebook_likes' 'actor_3_name'\n",
            " 'facenumber_in_poster' 'plot_keywords' 'movie_imdb_link'\n",
            " 'num_user_for_reviews' 'language' 'country' 'content_rating' 'budget'\n",
            " 'title_year' 'actor_2_facebook_likes' 'imdb_score' 'aspect_ratio'\n",
            " 'movie_facebook_likes']\n"
          ]
        }
      ]
    },
    {
      "cell_type": "code",
      "metadata": {
        "colab": {
          "base_uri": "https://localhost:8080/"
        },
        "id": "V8-2yeMdbGyk",
        "outputId": "fa674a77-202d-4ac7-9162-d51fe17d351f"
      },
      "source": [
        "print(movies.dtypes)\n",
        "print(movies.shape)"
      ],
      "execution_count": null,
      "outputs": [
        {
          "output_type": "stream",
          "name": "stdout",
          "text": [
            "color                         object\n",
            "director_name                 object\n",
            "num_critic_for_reviews       float64\n",
            "duration                     float64\n",
            "director_facebook_likes      float64\n",
            "actor_3_facebook_likes       float64\n",
            "actor_2_name                  object\n",
            "actor_1_facebook_likes       float64\n",
            "gross                        float64\n",
            "genres                        object\n",
            "actor_1_name                  object\n",
            "movie_title                   object\n",
            "num_voted_users                int64\n",
            "cast_total_facebook_likes      int64\n",
            "actor_3_name                  object\n",
            "facenumber_in_poster         float64\n",
            "plot_keywords                 object\n",
            "movie_imdb_link               object\n",
            "num_user_for_reviews         float64\n",
            "language                      object\n",
            "country                       object\n",
            "content_rating                object\n",
            "budget                       float64\n",
            "title_year                   float64\n",
            "actor_2_facebook_likes       float64\n",
            "imdb_score                   float64\n",
            "aspect_ratio                 float64\n",
            "movie_facebook_likes           int64\n",
            "dtype: object\n",
            "(5043, 28)\n"
          ]
        }
      ]
    },
    {
      "cell_type": "code",
      "metadata": {
        "colab": {
          "base_uri": "https://localhost:8080/"
        },
        "id": "MOfqbi0wa1cF",
        "outputId": "3fe25ba3-7471-4089-b99b-23be0f53619b"
      },
      "source": [
        "#check null data\n",
        "print(\"null value:\\n\")\n",
        "print(movies.isna()) #same as movies.isnull().sum()\n",
        "print(movies.isna().sum())\n",
        "print(\"null values %s\" %movies.isnull().values.any())\n",
        "print(\"null values %s\"%movies.isna().sum().sum())\n",
        "print(movies.describe())"
      ],
      "execution_count": null,
      "outputs": [
        {
          "output_type": "stream",
          "name": "stdout",
          "text": [
            "null value:\n",
            "\n",
            "       imdb_title_id  title  ...  reviews_from_users  reviews_from_critics\n",
            "0              False  False  ...               False                 False\n",
            "1              False  False  ...               False                 False\n",
            "2              False  False  ...               False                 False\n",
            "3              False  False  ...               False                 False\n",
            "4              False  False  ...               False                 False\n",
            "...              ...    ...  ...                 ...                   ...\n",
            "85850          False  False  ...                True                 False\n",
            "85851          False  False  ...               False                 False\n",
            "85852          False  False  ...                True                  True\n",
            "85853          False  False  ...                True                  True\n",
            "85854          False  False  ...                True                 False\n",
            "\n",
            "[85855 rows x 22 columns]\n",
            "imdb_title_id                0\n",
            "title                        0\n",
            "original_title               0\n",
            "year                         0\n",
            "date_published               0\n",
            "genre                        0\n",
            "duration                     0\n",
            "country                     64\n",
            "language                   833\n",
            "director                    87\n",
            "writer                    1572\n",
            "production_company        4455\n",
            "actors                      69\n",
            "description               2115\n",
            "avg_vote                     0\n",
            "votes                        0\n",
            "budget                   62145\n",
            "usa_gross_income         70529\n",
            "worlwide_gross_income    54839\n",
            "metascore                72550\n",
            "reviews_from_users        7597\n",
            "reviews_from_critics     11797\n",
            "dtype: int64\n",
            "null values True\n",
            "null values 288652\n",
            "           duration      avg_vote  ...  reviews_from_users  reviews_from_critics\n",
            "count  85855.000000  85855.000000  ...        78258.000000          74058.000000\n",
            "mean     100.351418      5.898656  ...           46.040826             27.479989\n",
            "std       22.553848      1.234987  ...          178.511411             58.339158\n",
            "min       41.000000      1.000000  ...            1.000000              1.000000\n",
            "25%       88.000000      5.200000  ...            4.000000              3.000000\n",
            "50%       96.000000      6.100000  ...            9.000000              8.000000\n",
            "75%      108.000000      6.800000  ...           27.000000             23.000000\n",
            "max      808.000000      9.900000  ...        10472.000000            999.000000\n",
            "\n",
            "[8 rows x 6 columns]\n"
          ]
        }
      ]
    },
    {
      "cell_type": "code",
      "metadata": {
        "id": "oAZYiXDsifHC"
      },
      "source": [
        "#clean the dataset by droping the na values\n",
        "clean_movies=movies.dropna(how='any')\n",
        "movies=movies.dropna(how='any')"
      ],
      "execution_count": null,
      "outputs": []
    },
    {
      "cell_type": "code",
      "metadata": {
        "colab": {
          "base_uri": "https://localhost:8080/"
        },
        "id": "alQp6pGzifFo",
        "outputId": "8ae66e25-8513-45e6-8457-834652506afb"
      },
      "source": [
        "print(clean_movies.shape)"
      ],
      "execution_count": null,
      "outputs": [
        {
          "output_type": "stream",
          "name": "stdout",
          "text": [
            "(3756, 28)\n"
          ]
        }
      ]
    },
    {
      "cell_type": "code",
      "metadata": {
        "id": "0FjEjSeusupy"
      },
      "source": [
        "#use fillna attribute of pandas\n",
        "#for filling up missing values in all columns\n",
        "movies.fillna(value=0,inplace=True)\n"
      ],
      "execution_count": null,
      "outputs": []
    },
    {
      "cell_type": "code",
      "source": [
        "#for this dataframe we can 'missing' in the columns of object data types for example language\n",
        "movies['language'].fillna(\"no info\",inplace=True)\n",
        "print(\"null values\", movies.isna().sum()) "
      ],
      "metadata": {
        "colab": {
          "base_uri": "https://localhost:8080/"
        },
        "id": "0P6EYpqzzQbd",
        "outputId": "a67d6dd1-8e67-4261-8247-2dde3cabea39"
      },
      "execution_count": null,
      "outputs": [
        {
          "output_type": "stream",
          "name": "stdout",
          "text": [
            "null values color                        0\n",
            "director_name                0\n",
            "num_critic_for_reviews       0\n",
            "duration                     0\n",
            "director_facebook_likes      0\n",
            "actor_3_facebook_likes       0\n",
            "actor_2_name                 0\n",
            "actor_1_facebook_likes       0\n",
            "gross                        0\n",
            "genres                       0\n",
            "actor_1_name                 0\n",
            "movie_title                  0\n",
            "num_voted_users              0\n",
            "cast_total_facebook_likes    0\n",
            "actor_3_name                 0\n",
            "facenumber_in_poster         0\n",
            "plot_keywords                0\n",
            "movie_imdb_link              0\n",
            "num_user_for_reviews         0\n",
            "language                     0\n",
            "country                      0\n",
            "content_rating               0\n",
            "budget                       0\n",
            "title_year                   0\n",
            "actor_2_facebook_likes       0\n",
            "imdb_score                   0\n",
            "aspect_ratio                 0\n",
            "movie_facebook_likes         0\n",
            "dtype: int64\n"
          ]
        }
      ]
    },
    {
      "cell_type": "code",
      "metadata": {
        "colab": {
          "base_uri": "https://localhost:8080/"
        },
        "id": "ixnaBi660Osr",
        "outputId": "bec0f6f4-2838-4cd5-fe22-796e00b97e90"
      },
      "source": [
        "# check if there are duplicate rows or not \n",
        "\n",
        "#++++++++++++++++++++++++++++++++++++++++++++++++++++++++++++++++++++++++\n",
        "\n",
        "duplicate_rows = movies[movies.duplicated()]\n",
        "print(\"number of duplicate rows: \", duplicate_rows.shape)"
      ],
      "execution_count": null,
      "outputs": [
        {
          "output_type": "stream",
          "name": "stdout",
          "text": [
            "number of duplicate rows:  (33, 28)\n"
          ]
        }
      ]
    },
    {
      "cell_type": "code",
      "source": [
        "#+ discretization or binning\n",
        "#+++++++++++++++++++++++++++++++++++++++++++++++\n",
        "\n",
        "print (movies['imdb_score'][5:10])\n",
        "# check the miminmum value of all columns\n",
        "print (\"minimum values of all cloumn:\") \n",
        "print (movies.min())\n"
      ],
      "metadata": {
        "colab": {
          "base_uri": "https://localhost:8080/"
        },
        "id": "750xUt4uj7MP",
        "outputId": "084f9f2f-fe6f-47fc-8557-7be831774d0d"
      },
      "execution_count": null,
      "outputs": [
        {
          "output_type": "stream",
          "name": "stdout",
          "text": [
            "6     6.2\n",
            "7     7.8\n",
            "8     7.5\n",
            "9     7.5\n",
            "10    6.9\n",
            "Name: imdb_score, dtype: float64\n",
            "minimum values of all cloumn:\n",
            "color                                                          Black and White\n",
            "director_name                                                  Aaron Schneider\n",
            "num_critic_for_reviews                                                       2\n",
            "duration                                                                    37\n",
            "director_facebook_likes                                                      0\n",
            "actor_3_facebook_likes                                                       0\n",
            "actor_2_name                                                           50 Cent\n",
            "actor_1_facebook_likes                                                       0\n",
            "gross                                                                      162\n",
            "genres                                                                  Action\n",
            "actor_1_name                                                           50 Cent\n",
            "movie_title                                               10 Cloverfield Lane \n",
            "num_voted_users                                                             91\n",
            "cast_total_facebook_likes                                                    0\n",
            "actor_3_name                                                           50 Cent\n",
            "facenumber_in_poster                                                         0\n",
            "plot_keywords                         10 year old|dog|florida|girl|supermarket\n",
            "movie_imdb_link              http://www.imdb.com/title/tt0017136/?ref_=fn_t...\n",
            "num_user_for_reviews                                                         4\n",
            "language                                                            Aboriginal\n",
            "country                                                            Afghanistan\n",
            "content_rating                                                        Approved\n",
            "budget                                                                     218\n",
            "title_year                                                                1927\n",
            "actor_2_facebook_likes                                                       0\n",
            "imdb_score                                                                 1.6\n",
            "aspect_ratio                                                              1.18\n",
            "movie_facebook_likes                                                         0\n",
            "dtype: object\n"
          ]
        }
      ]
    },
    {
      "cell_type": "code",
      "source": [
        "print (movies['imdb_score'].idxmax())\n",
        "print (movies.loc[movies['imdb_score'].idxmax(), 'movie_title'])\n",
        "print (movies['movie_title'].loc[2764:2767])\n",
        "print (movies[['movie_title','budget']].loc[2986:2990])\n"
      ],
      "metadata": {
        "id": "cAPLpPGBkU8m",
        "colab": {
          "base_uri": "https://localhost:8080/"
        },
        "outputId": "d912c546-0afa-4847-aee4-b3fdff44b56f"
      },
      "execution_count": null,
      "outputs": [
        {
          "output_type": "stream",
          "name": "stdout",
          "text": [
            "1937\n",
            "The Shawshank Redemption \n",
            "2764           Pretty Woman \n",
            "2766    Crocodile Dundee II \n",
            "Name: movie_title, dtype: object\n",
            "       movie_title        budget\n",
            "2986   Two Lovers   1.200000e+07\n",
            "2987  Last Orders   1.200000e+07\n",
            "2988     The Host   1.221550e+10\n",
            "2990     Ravenous   1.200000e+07\n"
          ]
        }
      ]
    },
    {
      "cell_type": "code",
      "source": [
        "# check the distribution of imdb score\n",
        "fig = plt.figure(figsize=(10,7))\n",
        "sns.distplot(movies['imdb_score'])\n",
        "plt.xlabel('IMDB Score', fontsize=12)\n",
        "sns.jointplot(x='budget', y='imdb_score', data=movies); \n",
        "plt.show()"
      ],
      "metadata": {
        "colab": {
          "base_uri": "https://localhost:8080/",
          "height": 924
        },
        "id": "IcQQYQsuPGis",
        "outputId": "89b99b41-367f-43f9-d3b5-b1700a47a094"
      },
      "execution_count": null,
      "outputs": [
        {
          "output_type": "stream",
          "name": "stderr",
          "text": [
            "/usr/local/lib/python3.7/dist-packages/seaborn/distributions.py:2619: FutureWarning: `distplot` is a deprecated function and will be removed in a future version. Please adapt your code to use either `displot` (a figure-level function with similar flexibility) or `histplot` (an axes-level function for histograms).\n",
            "  warnings.warn(msg, FutureWarning)\n"
          ]
        },
        {
          "output_type": "display_data",
          "data": {
            "image/png": "[encoded data removed]",
            "text/plain": [
              "<Figure size 720x504 with 1 Axes>"
            ]
          },
          "metadata": {
            "needs_background": "light"
          }
        },
        {
          "output_type": "display_data",
          "data": {
            "image/png": "[encoded data removed]",
            "text/plain": [
              "<Figure size 432x432 with 3 Axes>"
            ]
          },
          "metadata": {
            "needs_background": "light"
          }
        }
      ]
    },
    {
      "cell_type": "code",
      "source": [
        "# based on the 'imdb_score' we will discritize the movies in 3 categories ['shyte', 'moderate', 'good']\n",
        "# similar with pd.cut method described in McKinney's book\n",
        "op_labels = ['bad', 'moderate', 'good']\n",
        "category = [0.,4.,7.,10.]\n",
        "movies['imdb_labels'] = pd.cut(movies['imdb_score'], labels=op_labels, bins=category, include_lowest=False)\n",
        "print (movies[['movie_title', 'imdb_score', 'imdb_labels']][209:220])\n"
      ],
      "metadata": {
        "colab": {
          "base_uri": "https://localhost:8080/"
        },
        "id": "xNuBZksfPKNv",
        "outputId": "e2fff6a6-29e3-421b-dfdf-c1752a11af78"
      },
      "execution_count": null,
      "outputs": [
        {
          "output_type": "stream",
          "name": "stdout",
          "text": [
            "                                 movie_title  imdb_score imdb_labels\n",
            "218          How the Grinch Stole Christmas          6.0    moderate\n",
            "219                  The Day After Tomorrow          6.4    moderate\n",
            "220                  Mission: Impossible II          6.1    moderate\n",
            "221                       The Perfect Storm          6.4    moderate\n",
            "222  Fantastic 4: Rise of the Silver Surfer          5.6    moderate\n",
            "223                              Life of Pi          8.0        good\n",
            "224                             Ghost Rider          5.2    moderate\n",
            "225                            Jason Bourne          7.1        good\n",
            "226         Charlie's Angels: Full Throttle          4.8    moderate\n",
            "227                              Prometheus          7.0    moderate\n",
            "228                         Stuart Little 2          5.4    moderate\n"
          ]
        }
      ]
    },
    {
      "cell_type": "code",
      "source": [
        "#____OUTLIER_______________________________________\n",
        "# First check with box plot \n",
        "#___________________________________________\n",
        "\n",
        "# let's try to plot boxplot with seaborn \n",
        "sns.boxplot(x=movies['facenumber_in_poster'], color='lime')\n",
        "plt.xlabel('No. of Actors Featured in Poster', fontsize=14)\n",
        "plt.show()\n"
      ],
      "metadata": {
        "colab": {
          "base_uri": "https://localhost:8080/",
          "height": 283
        },
        "id": "nTaK3AvGPSgb",
        "outputId": "a8716376-7da9-4581-84d7-6d97b90fd189"
      },
      "execution_count": null,
      "outputs": [
        {
          "output_type": "display_data",
          "data": {
            "image/png": "[encoded data removed]",
            "text/plain": [
              "<Figure size 432x288 with 1 Axes>"
            ]
          },
          "metadata": {
            "needs_background": "light"
          }
        }
      ]
    },
    {
      "cell_type": "code",
      "source": [
        "print (movies['facenumber_in_poster'].min())\n",
        "print (movies['facenumber_in_poster'].idxmax())\n",
        "print (movies[['movie_title', 'facenumber_in_poster']].iloc[movies['facenumber_in_poster'].idxmax()])\n",
        "print (movies['facenumber_in_poster'].describe())\n",
        "# budget column is massively varying. so we are in dire need to drop outliers\n",
        "#best option for dropping outliers is to use zscore method and reject all rows in non-object type columns\n"
      ],
      "metadata": {
        "colab": {
          "base_uri": "https://localhost:8080/"
        },
        "id": "nC1tCJI_PVxW",
        "outputId": "387c7e45-f0f7-46fe-fc61-b0ff64d13c9d"
      },
      "execution_count": null,
      "outputs": [
        {
          "output_type": "stream",
          "name": "stdout",
          "text": [
            "0.0\n",
            "3468\n",
            "movie_title             Witchboard \n",
            "facenumber_in_poster              1\n",
            "Name: 4280, dtype: object\n",
            "count    3756.000000\n",
            "mean        1.377263\n",
            "std         2.041541\n",
            "min         0.000000\n",
            "25%         0.000000\n",
            "50%         1.000000\n",
            "75%         2.000000\n",
            "max        43.000000\n",
            "Name: facenumber_in_poster, dtype: float64\n"
          ]
        }
      ]
    },
    {
      "cell_type": "code",
      "source": [
        "#____________________________________________________________________________________\n",
        "# Use Z Score from Scipy Stats \n",
        "# https://docs.scipy.org/doc/scipy/reference/generated/scipy.stats.zscore.html\n",
        "#____________________________________________________________________________________\n",
        "# will try first using the z score method \n",
        "# z score is basically how many standard deviation away a point is from the mean. Closer the value of z is towards 0, the data point is closer to the mean. \n",
        "\n",
        "#first detect outlier for a particular column\n",
        "\n",
        "print (movies.dtypes)\n",
        "movies_num = movies.select_dtypes(exclude=['object'])\n",
        "print (movies_num.shape )\n",
        "# 12 object type columns were dropped.\n"
      ],
      "metadata": {
        "colab": {
          "base_uri": "https://localhost:8080/"
        },
        "id": "l3kK_ePfPfGJ",
        "outputId": "f6ae54f1-425c-4062-9a9a-ef8943e80c33"
      },
      "execution_count": null,
      "outputs": [
        {
          "output_type": "stream",
          "name": "stdout",
          "text": [
            "color                          object\n",
            "director_name                  object\n",
            "num_critic_for_reviews        float64\n",
            "duration                      float64\n",
            "director_facebook_likes       float64\n",
            "actor_3_facebook_likes        float64\n",
            "actor_2_name                   object\n",
            "actor_1_facebook_likes        float64\n",
            "gross                         float64\n",
            "genres                         object\n",
            "actor_1_name                   object\n",
            "movie_title                    object\n",
            "num_voted_users                 int64\n",
            "cast_total_facebook_likes       int64\n",
            "actor_3_name                   object\n",
            "facenumber_in_poster          float64\n",
            "plot_keywords                  object\n",
            "movie_imdb_link                object\n",
            "num_user_for_reviews          float64\n",
            "language                       object\n",
            "country                        object\n",
            "content_rating                 object\n",
            "budget                        float64\n",
            "title_year                    float64\n",
            "actor_2_facebook_likes        float64\n",
            "imdb_score                    float64\n",
            "aspect_ratio                  float64\n",
            "movie_facebook_likes            int64\n",
            "imdb_labels                  category\n",
            "dtype: object\n",
            "(3756, 17)\n"
          ]
        }
      ]
    },
    {
      "cell_type": "code",
      "source": [
        "movies_num"
      ],
      "metadata": {
        "colab": {
          "base_uri": "https://localhost:8080/",
          "height": 488
        },
        "id": "fuzFgCMBPjqH",
        "outputId": "8dd0ec05-f4ef-47f7-d426-931a71c78a4c"
      },
      "execution_count": null,
      "outputs": [
        {
          "output_type": "execute_result",
          "data": {
            "text/html": [
              "\n",
              "  <div id=\"df-8b0dc1f8-9a50-4632-a28e-193c76926a9c\">\n",
              "    <div class=\"colab-df-container\">\n",
              "      <div>\n",
              "<style scoped>\n",
              "    .dataframe tbody tr th:only-of-type {\n",
              "        vertical-align: middle;\n",
              "    }\n",
              "\n",
              "    .dataframe tbody tr th {\n",
              "        vertical-align: top;\n",
              "    }\n",
              "\n",
              "    .dataframe thead th {\n",
              "        text-align: right;\n",
              "    }\n",
              "</style>\n",
              "<table border=\"1\" class=\"dataframe\">\n",
              "  <thead>\n",
              "    <tr style=\"text-align: right;\">\n",
              "      <th></th>\n",
              "      <th>num_critic_for_reviews</th>\n",
              "      <th>duration</th>\n",
              "      <th>director_facebook_likes</th>\n",
              "      <th>actor_3_facebook_likes</th>\n",
              "      <th>actor_1_facebook_likes</th>\n",
              "      <th>gross</th>\n",
              "      <th>num_voted_users</th>\n",
              "      <th>cast_total_facebook_likes</th>\n",
              "      <th>facenumber_in_poster</th>\n",
              "      <th>num_user_for_reviews</th>\n",
              "      <th>budget</th>\n",
              "      <th>title_year</th>\n",
              "      <th>actor_2_facebook_likes</th>\n",
              "      <th>imdb_score</th>\n",
              "      <th>aspect_ratio</th>\n",
              "      <th>movie_facebook_likes</th>\n",
              "      <th>imdb_labels</th>\n",
              "    </tr>\n",
              "  </thead>\n",
              "  <tbody>\n",
              "    <tr>\n",
              "      <th>0</th>\n",
              "      <td>723.0</td>\n",
              "      <td>178.0</td>\n",
              "      <td>0.0</td>\n",
              "      <td>855.0</td>\n",
              "      <td>1000.0</td>\n",
              "      <td>760505847.0</td>\n",
              "      <td>886204</td>\n",
              "      <td>4834</td>\n",
              "      <td>0.0</td>\n",
              "      <td>3054.0</td>\n",
              "      <td>237000000.0</td>\n",
              "      <td>2009.0</td>\n",
              "      <td>936.0</td>\n",
              "      <td>7.9</td>\n",
              "      <td>1.78</td>\n",
              "      <td>33000</td>\n",
              "      <td>good</td>\n",
              "    </tr>\n",
              "    <tr>\n",
              "      <th>1</th>\n",
              "      <td>302.0</td>\n",
              "      <td>169.0</td>\n",
              "      <td>563.0</td>\n",
              "      <td>1000.0</td>\n",
              "      <td>40000.0</td>\n",
              "      <td>309404152.0</td>\n",
              "      <td>471220</td>\n",
              "      <td>48350</td>\n",
              "      <td>0.0</td>\n",
              "      <td>1238.0</td>\n",
              "      <td>300000000.0</td>\n",
              "      <td>2007.0</td>\n",
              "      <td>5000.0</td>\n",
              "      <td>7.1</td>\n",
              "      <td>2.35</td>\n",
              "      <td>0</td>\n",
              "      <td>good</td>\n",
              "    </tr>\n",
              "    <tr>\n",
              "      <th>2</th>\n",
              "      <td>602.0</td>\n",
              "      <td>148.0</td>\n",
              "      <td>0.0</td>\n",
              "      <td>161.0</td>\n",
              "      <td>11000.0</td>\n",
              "      <td>200074175.0</td>\n",
              "      <td>275868</td>\n",
              "      <td>11700</td>\n",
              "      <td>1.0</td>\n",
              "      <td>994.0</td>\n",
              "      <td>245000000.0</td>\n",
              "      <td>2015.0</td>\n",
              "      <td>393.0</td>\n",
              "      <td>6.8</td>\n",
              "      <td>2.35</td>\n",
              "      <td>85000</td>\n",
              "      <td>moderate</td>\n",
              "    </tr>\n",
              "    <tr>\n",
              "      <th>3</th>\n",
              "      <td>813.0</td>\n",
              "      <td>164.0</td>\n",
              "      <td>22000.0</td>\n",
              "      <td>23000.0</td>\n",
              "      <td>27000.0</td>\n",
              "      <td>448130642.0</td>\n",
              "      <td>1144337</td>\n",
              "      <td>106759</td>\n",
              "      <td>0.0</td>\n",
              "      <td>2701.0</td>\n",
              "      <td>250000000.0</td>\n",
              "      <td>2012.0</td>\n",
              "      <td>23000.0</td>\n",
              "      <td>8.5</td>\n",
              "      <td>2.35</td>\n",
              "      <td>164000</td>\n",
              "      <td>good</td>\n",
              "    </tr>\n",
              "    <tr>\n",
              "      <th>5</th>\n",
              "      <td>462.0</td>\n",
              "      <td>132.0</td>\n",
              "      <td>475.0</td>\n",
              "      <td>530.0</td>\n",
              "      <td>640.0</td>\n",
              "      <td>73058679.0</td>\n",
              "      <td>212204</td>\n",
              "      <td>1873</td>\n",
              "      <td>1.0</td>\n",
              "      <td>738.0</td>\n",
              "      <td>263700000.0</td>\n",
              "      <td>2012.0</td>\n",
              "      <td>632.0</td>\n",
              "      <td>6.6</td>\n",
              "      <td>2.35</td>\n",
              "      <td>24000</td>\n",
              "      <td>moderate</td>\n",
              "    </tr>\n",
              "    <tr>\n",
              "      <th>...</th>\n",
              "      <td>...</td>\n",
              "      <td>...</td>\n",
              "      <td>...</td>\n",
              "      <td>...</td>\n",
              "      <td>...</td>\n",
              "      <td>...</td>\n",
              "      <td>...</td>\n",
              "      <td>...</td>\n",
              "      <td>...</td>\n",
              "      <td>...</td>\n",
              "      <td>...</td>\n",
              "      <td>...</td>\n",
              "      <td>...</td>\n",
              "      <td>...</td>\n",
              "      <td>...</td>\n",
              "      <td>...</td>\n",
              "      <td>...</td>\n",
              "    </tr>\n",
              "    <tr>\n",
              "      <th>5026</th>\n",
              "      <td>81.0</td>\n",
              "      <td>110.0</td>\n",
              "      <td>107.0</td>\n",
              "      <td>45.0</td>\n",
              "      <td>576.0</td>\n",
              "      <td>136007.0</td>\n",
              "      <td>3924</td>\n",
              "      <td>776</td>\n",
              "      <td>1.0</td>\n",
              "      <td>39.0</td>\n",
              "      <td>4500.0</td>\n",
              "      <td>2004.0</td>\n",
              "      <td>133.0</td>\n",
              "      <td>6.9</td>\n",
              "      <td>2.35</td>\n",
              "      <td>171</td>\n",
              "      <td>moderate</td>\n",
              "    </tr>\n",
              "    <tr>\n",
              "      <th>5027</th>\n",
              "      <td>64.0</td>\n",
              "      <td>90.0</td>\n",
              "      <td>397.0</td>\n",
              "      <td>0.0</td>\n",
              "      <td>5.0</td>\n",
              "      <td>673780.0</td>\n",
              "      <td>4555</td>\n",
              "      <td>5</td>\n",
              "      <td>0.0</td>\n",
              "      <td>26.0</td>\n",
              "      <td>10000.0</td>\n",
              "      <td>2000.0</td>\n",
              "      <td>0.0</td>\n",
              "      <td>7.5</td>\n",
              "      <td>1.85</td>\n",
              "      <td>697</td>\n",
              "      <td>good</td>\n",
              "    </tr>\n",
              "    <tr>\n",
              "      <th>5033</th>\n",
              "      <td>143.0</td>\n",
              "      <td>77.0</td>\n",
              "      <td>291.0</td>\n",
              "      <td>8.0</td>\n",
              "      <td>291.0</td>\n",
              "      <td>424760.0</td>\n",
              "      <td>72639</td>\n",
              "      <td>368</td>\n",
              "      <td>0.0</td>\n",
              "      <td>371.0</td>\n",
              "      <td>7000.0</td>\n",
              "      <td>2004.0</td>\n",
              "      <td>45.0</td>\n",
              "      <td>7.0</td>\n",
              "      <td>1.85</td>\n",
              "      <td>19000</td>\n",
              "      <td>moderate</td>\n",
              "    </tr>\n",
              "    <tr>\n",
              "      <th>5035</th>\n",
              "      <td>56.0</td>\n",
              "      <td>81.0</td>\n",
              "      <td>0.0</td>\n",
              "      <td>6.0</td>\n",
              "      <td>121.0</td>\n",
              "      <td>2040920.0</td>\n",
              "      <td>52055</td>\n",
              "      <td>147</td>\n",
              "      <td>0.0</td>\n",
              "      <td>130.0</td>\n",
              "      <td>7000.0</td>\n",
              "      <td>1992.0</td>\n",
              "      <td>20.0</td>\n",
              "      <td>6.9</td>\n",
              "      <td>1.37</td>\n",
              "      <td>0</td>\n",
              "      <td>moderate</td>\n",
              "    </tr>\n",
              "    <tr>\n",
              "      <th>5042</th>\n",
              "      <td>43.0</td>\n",
              "      <td>90.0</td>\n",
              "      <td>16.0</td>\n",
              "      <td>16.0</td>\n",
              "      <td>86.0</td>\n",
              "      <td>85222.0</td>\n",
              "      <td>4285</td>\n",
              "      <td>163</td>\n",
              "      <td>0.0</td>\n",
              "      <td>84.0</td>\n",
              "      <td>1100.0</td>\n",
              "      <td>2004.0</td>\n",
              "      <td>23.0</td>\n",
              "      <td>6.6</td>\n",
              "      <td>1.85</td>\n",
              "      <td>456</td>\n",
              "      <td>moderate</td>\n",
              "    </tr>\n",
              "  </tbody>\n",
              "</table>\n",
              "<p>3756 rows × 17 columns</p>\n",
              "</div>\n",
              "      <button class=\"colab-df-convert\" onclick=\"convertToInteractive('df-8b0dc1f8-9a50-4632-a28e-193c76926a9c')\"\n",
              "              title=\"Convert this dataframe to an interactive table.\"\n",
              "              style=\"display:none;\">\n",
              "        \n",
              "  <svg xmlns=\"http://www.w3.org/2000/svg\" height=\"24px\"viewBox=\"0 0 24 24\"\n",
              "       width=\"24px\">\n",
              "    <path d=\"M0 0h24v24H0V0z\" fill=\"none\"/>\n",
              "    <path d=\"M18.56 5.44l.94 2.06.94-2.06 2.06-.94-2.06-.94-.94-2.06-.94 2.06-2.06.94zm-11 1L8.5 8.5l.94-2.06 2.06-.94-2.06-.94L8.5 2.5l-.94 2.06-2.06.94zm10 10l.94 2.06.94-2.06 2.06-.94-2.06-.94-.94-2.06-.94 2.06-2.06.94z\"/><path d=\"M17.41 7.96l-1.37-1.37c-.4-.4-.92-.59-1.43-.59-.52 0-1.04.2-1.43.59L10.3 9.45l-7.72 7.72c-.78.78-.78 2.05 0 2.83L4 21.41c.39.39.9.59 1.41.59.51 0 1.02-.2 1.41-.59l7.78-7.78 2.81-2.81c.8-.78.8-2.07 0-2.86zM5.41 20L4 18.59l7.72-7.72 1.47 1.35L5.41 20z\"/>\n",
              "  </svg>\n",
              "      </button>\n",
              "      \n",
              "  <style>\n",
              "    .colab-df-container {\n",
              "      display:flex;\n",
              "      flex-wrap:wrap;\n",
              "      gap: 12px;\n",
              "    }\n",
              "\n",
              "    .colab-df-convert {\n",
              "      background-color: #E8F0FE;\n",
              "      border: none;\n",
              "      border-radius: 50%;\n",
              "      cursor: pointer;\n",
              "      display: none;\n",
              "      fill: #1967D2;\n",
              "      height: 32px;\n",
              "      padding: 0 0 0 0;\n",
              "      width: 32px;\n",
              "    }\n",
              "\n",
              "    .colab-df-convert:hover {\n",
              "      background-color: #E2EBFA;\n",
              "      box-shadow: 0px 1px 2px rgba(60, 64, 67, 0.3), 0px 1px 3px 1px rgba(60, 64, 67, 0.15);\n",
              "      fill: #174EA6;\n",
              "    }\n",
              "\n",
              "    [theme=dark] .colab-df-convert {\n",
              "      background-color: #3B4455;\n",
              "      fill: #D2E3FC;\n",
              "    }\n",
              "\n",
              "    [theme=dark] .colab-df-convert:hover {\n",
              "      background-color: #434B5C;\n",
              "      box-shadow: 0px 1px 3px 1px rgba(0, 0, 0, 0.15);\n",
              "      filter: drop-shadow(0px 1px 2px rgba(0, 0, 0, 0.3));\n",
              "      fill: #FFFFFF;\n",
              "    }\n",
              "  </style>\n",
              "\n",
              "      <script>\n",
              "        const buttonEl =\n",
              "          document.querySelector('#df-8b0dc1f8-9a50-4632-a28e-193c76926a9c button.colab-df-convert');\n",
              "        buttonEl.style.display =\n",
              "          google.colab.kernel.accessAllowed ? 'block' : 'none';\n",
              "\n",
              "        async function convertToInteractive(key) {\n",
              "          const element = document.querySelector('#df-8b0dc1f8-9a50-4632-a28e-193c76926a9c');\n",
              "          const dataTable =\n",
              "            await google.colab.kernel.invokeFunction('convertToInteractive',\n",
              "                                                     [key], {});\n",
              "          if (!dataTable) return;\n",
              "\n",
              "          const docLinkHtml = 'Like what you see? Visit the ' +\n",
              "            '<a target=\"_blank\" href=https://colab.research.google.com/notebooks/data_table.ipynb>data table notebook</a>'\n",
              "            + ' to learn more about interactive tables.';\n",
              "          element.innerHTML = '';\n",
              "          dataTable['output_type'] = 'display_data';\n",
              "          await google.colab.output.renderOutput(dataTable, element);\n",
              "          const docLink = document.createElement('div');\n",
              "          docLink.innerHTML = docLinkHtml;\n",
              "          element.appendChild(docLink);\n",
              "        }\n",
              "      </script>\n",
              "    </div>\n",
              "  </div>\n",
              "  "
            ],
            "text/plain": [
              "      num_critic_for_reviews  duration  ...  movie_facebook_likes  imdb_labels\n",
              "0                      723.0     178.0  ...                 33000         good\n",
              "1                      302.0     169.0  ...                     0         good\n",
              "2                      602.0     148.0  ...                 85000     moderate\n",
              "3                      813.0     164.0  ...                164000         good\n",
              "5                      462.0     132.0  ...                 24000     moderate\n",
              "...                      ...       ...  ...                   ...          ...\n",
              "5026                    81.0     110.0  ...                   171     moderate\n",
              "5027                    64.0      90.0  ...                   697         good\n",
              "5033                   143.0      77.0  ...                 19000     moderate\n",
              "5035                    56.0      81.0  ...                     0     moderate\n",
              "5042                    43.0      90.0  ...                   456     moderate\n",
              "\n",
              "[3756 rows x 17 columns]"
            ]
          },
          "metadata": {},
          "execution_count": 25
        }
      ]
    },
    {
      "cell_type": "code",
      "source": [
        "from scipy.stats import zscore\n",
        "\n",
        "numeric_cols = movies_num.select_dtypes(include=[np.number]).columns\n",
        "movies_num[numeric_cols].apply(zscore)\n",
        "\n",
        "#print(movies_df_num.apply(zscore))\n"
      ],
      "metadata": {
        "colab": {
          "base_uri": "https://localhost:8080/",
          "height": 488
        },
        "id": "NEvmvWUuPn19",
        "outputId": "0028778b-203b-490f-bcf3-2b8976f91bad"
      },
      "execution_count": null,
      "outputs": [
        {
          "output_type": "execute_result",
          "data": {
            "text/html": [
              "\n",
              "  <div id=\"df-064196b5-8176-4a7d-9a79-db041cfbab45\">\n",
              "    <div class=\"colab-df-container\">\n",
              "      <div>\n",
              "<style scoped>\n",
              "    .dataframe tbody tr th:only-of-type {\n",
              "        vertical-align: middle;\n",
              "    }\n",
              "\n",
              "    .dataframe tbody tr th {\n",
              "        vertical-align: top;\n",
              "    }\n",
              "\n",
              "    .dataframe thead th {\n",
              "        text-align: right;\n",
              "    }\n",
              "</style>\n",
              "<table border=\"1\" class=\"dataframe\">\n",
              "  <thead>\n",
              "    <tr style=\"text-align: right;\">\n",
              "      <th></th>\n",
              "      <th>num_critic_for_reviews</th>\n",
              "      <th>duration</th>\n",
              "      <th>director_facebook_likes</th>\n",
              "      <th>actor_3_facebook_likes</th>\n",
              "      <th>actor_1_facebook_likes</th>\n",
              "      <th>gross</th>\n",
              "      <th>num_voted_users</th>\n",
              "      <th>cast_total_facebook_likes</th>\n",
              "      <th>facenumber_in_poster</th>\n",
              "      <th>num_user_for_reviews</th>\n",
              "      <th>budget</th>\n",
              "      <th>title_year</th>\n",
              "      <th>actor_2_facebook_likes</th>\n",
              "      <th>imdb_score</th>\n",
              "      <th>aspect_ratio</th>\n",
              "      <th>movie_facebook_likes</th>\n",
              "    </tr>\n",
              "  </thead>\n",
              "  <tbody>\n",
              "    <tr>\n",
              "      <th>0</th>\n",
              "      <td>4.501308</td>\n",
              "      <td>2.991649</td>\n",
              "      <td>-0.263168</td>\n",
              "      <td>0.044203</td>\n",
              "      <td>-0.435085</td>\n",
              "      <td>10.068384</td>\n",
              "      <td>5.133549</td>\n",
              "      <td>-0.350064</td>\n",
              "      <td>-0.674709</td>\n",
              "      <td>6.608312</td>\n",
              "      <td>0.844159</td>\n",
              "      <td>0.609240</td>\n",
              "      <td>-0.238931</td>\n",
              "      <td>1.358498</td>\n",
              "      <td>-0.937662</td>\n",
              "      <td>1.101870</td>\n",
              "    </tr>\n",
              "    <tr>\n",
              "      <th>1</th>\n",
              "      <td>1.090623</td>\n",
              "      <td>2.594188</td>\n",
              "      <td>-0.079646</td>\n",
              "      <td>0.120761</td>\n",
              "      <td>2.078243</td>\n",
              "      <td>3.652351</td>\n",
              "      <td>2.403663</td>\n",
              "      <td>1.925921</td>\n",
              "      <td>-0.674709</td>\n",
              "      <td>2.191675</td>\n",
              "      <td>1.122944</td>\n",
              "      <td>0.406950</td>\n",
              "      <td>0.655375</td>\n",
              "      <td>0.600998</td>\n",
              "      <td>0.676973</td>\n",
              "      <td>-0.435872</td>\n",
              "    </tr>\n",
              "    <tr>\n",
              "      <th>2</th>\n",
              "      <td>3.521040</td>\n",
              "      <td>1.666778</td>\n",
              "      <td>-0.263168</td>\n",
              "      <td>-0.322218</td>\n",
              "      <td>0.209358</td>\n",
              "      <td>2.097347</td>\n",
              "      <td>1.118581</td>\n",
              "      <td>0.009043</td>\n",
              "      <td>-0.184818</td>\n",
              "      <td>1.598250</td>\n",
              "      <td>0.879560</td>\n",
              "      <td>1.216110</td>\n",
              "      <td>-0.358421</td>\n",
              "      <td>0.316936</td>\n",
              "      <td>0.676973</td>\n",
              "      <td>3.524979</td>\n",
              "    </tr>\n",
              "    <tr>\n",
              "      <th>3</th>\n",
              "      <td>5.230433</td>\n",
              "      <td>2.373376</td>\n",
              "      <td>6.908181</td>\n",
              "      <td>11.736403</td>\n",
              "      <td>1.240467</td>\n",
              "      <td>5.625462</td>\n",
              "      <td>6.831623</td>\n",
              "      <td>4.980844</td>\n",
              "      <td>-0.674709</td>\n",
              "      <td>5.749791</td>\n",
              "      <td>0.901686</td>\n",
              "      <td>0.912675</td>\n",
              "      <td>4.616379</td>\n",
              "      <td>1.926622</td>\n",
              "      <td>0.676973</td>\n",
              "      <td>7.206241</td>\n",
              "    </tr>\n",
              "    <tr>\n",
              "      <th>5</th>\n",
              "      <td>2.386845</td>\n",
              "      <td>0.960179</td>\n",
              "      <td>-0.108332</td>\n",
              "      <td>-0.127392</td>\n",
              "      <td>-0.458285</td>\n",
              "      <td>0.290802</td>\n",
              "      <td>0.699781</td>\n",
              "      <td>-0.504931</td>\n",
              "      <td>-0.184818</td>\n",
              "      <td>0.975641</td>\n",
              "      <td>0.962311</td>\n",
              "      <td>0.912675</td>\n",
              "      <td>-0.305828</td>\n",
              "      <td>0.127561</td>\n",
              "      <td>0.676973</td>\n",
              "      <td>0.682486</td>\n",
              "    </tr>\n",
              "    <tr>\n",
              "      <th>...</th>\n",
              "      <td>...</td>\n",
              "      <td>...</td>\n",
              "      <td>...</td>\n",
              "      <td>...</td>\n",
              "      <td>...</td>\n",
              "      <td>...</td>\n",
              "      <td>...</td>\n",
              "      <td>...</td>\n",
              "      <td>...</td>\n",
              "      <td>...</td>\n",
              "      <td>...</td>\n",
              "      <td>...</td>\n",
              "      <td>...</td>\n",
              "      <td>...</td>\n",
              "      <td>...</td>\n",
              "      <td>...</td>\n",
              "    </tr>\n",
              "    <tr>\n",
              "      <th>5026</th>\n",
              "      <td>-0.699785</td>\n",
              "      <td>-0.011393</td>\n",
              "      <td>-0.228289</td>\n",
              "      <td>-0.383464</td>\n",
              "      <td>-0.462410</td>\n",
              "      <td>-0.746379</td>\n",
              "      <td>-0.670346</td>\n",
              "      <td>-0.562307</td>\n",
              "      <td>-0.184818</td>\n",
              "      <td>-0.724375</td>\n",
              "      <td>-0.204586</td>\n",
              "      <td>0.103515</td>\n",
              "      <td>-0.415636</td>\n",
              "      <td>0.411623</td>\n",
              "      <td>0.676973</td>\n",
              "      <td>-0.427904</td>\n",
              "    </tr>\n",
              "    <tr>\n",
              "      <th>5027</th>\n",
              "      <td>-0.837508</td>\n",
              "      <td>-0.894641</td>\n",
              "      <td>-0.133758</td>\n",
              "      <td>-0.407223</td>\n",
              "      <td>-0.499207</td>\n",
              "      <td>-0.738731</td>\n",
              "      <td>-0.666195</td>\n",
              "      <td>-0.602632</td>\n",
              "      <td>-0.674709</td>\n",
              "      <td>-0.755992</td>\n",
              "      <td>-0.204562</td>\n",
              "      <td>-0.301065</td>\n",
              "      <td>-0.444903</td>\n",
              "      <td>0.979748</td>\n",
              "      <td>-0.739374</td>\n",
              "      <td>-0.403393</td>\n",
              "    </tr>\n",
              "    <tr>\n",
              "      <th>5033</th>\n",
              "      <td>-0.197498</td>\n",
              "      <td>-1.468752</td>\n",
              "      <td>-0.168310</td>\n",
              "      <td>-0.402999</td>\n",
              "      <td>-0.480776</td>\n",
              "      <td>-0.742272</td>\n",
              "      <td>-0.218319</td>\n",
              "      <td>-0.583646</td>\n",
              "      <td>-0.674709</td>\n",
              "      <td>0.083072</td>\n",
              "      <td>-0.204575</td>\n",
              "      <td>0.103515</td>\n",
              "      <td>-0.435001</td>\n",
              "      <td>0.506311</td>\n",
              "      <td>-0.739374</td>\n",
              "      <td>0.449495</td>\n",
              "    </tr>\n",
              "    <tr>\n",
              "      <th>5035</th>\n",
              "      <td>-0.902319</td>\n",
              "      <td>-1.292103</td>\n",
              "      <td>-0.263168</td>\n",
              "      <td>-0.404055</td>\n",
              "      <td>-0.491732</td>\n",
              "      <td>-0.719286</td>\n",
              "      <td>-0.353726</td>\n",
              "      <td>-0.595205</td>\n",
              "      <td>-0.674709</td>\n",
              "      <td>-0.503057</td>\n",
              "      <td>-0.204575</td>\n",
              "      <td>-1.110226</td>\n",
              "      <td>-0.440502</td>\n",
              "      <td>0.411623</td>\n",
              "      <td>-2.099066</td>\n",
              "      <td>-0.435872</td>\n",
              "    </tr>\n",
              "    <tr>\n",
              "      <th>5042</th>\n",
              "      <td>-1.007637</td>\n",
              "      <td>-0.894641</td>\n",
              "      <td>-0.257952</td>\n",
              "      <td>-0.398775</td>\n",
              "      <td>-0.493987</td>\n",
              "      <td>-0.747102</td>\n",
              "      <td>-0.667971</td>\n",
              "      <td>-0.594368</td>\n",
              "      <td>-0.674709</td>\n",
              "      <td>-0.614932</td>\n",
              "      <td>-0.204601</td>\n",
              "      <td>0.103515</td>\n",
              "      <td>-0.439842</td>\n",
              "      <td>0.127561</td>\n",
              "      <td>-0.739374</td>\n",
              "      <td>-0.414623</td>\n",
              "    </tr>\n",
              "  </tbody>\n",
              "</table>\n",
              "<p>3756 rows × 16 columns</p>\n",
              "</div>\n",
              "      <button class=\"colab-df-convert\" onclick=\"convertToInteractive('df-064196b5-8176-4a7d-9a79-db041cfbab45')\"\n",
              "              title=\"Convert this dataframe to an interactive table.\"\n",
              "              style=\"display:none;\">\n",
              "        \n",
              "  <svg xmlns=\"http://www.w3.org/2000/svg\" height=\"24px\"viewBox=\"0 0 24 24\"\n",
              "       width=\"24px\">\n",
              "    <path d=\"M0 0h24v24H0V0z\" fill=\"none\"/>\n",
              "    <path d=\"M18.56 5.44l.94 2.06.94-2.06 2.06-.94-2.06-.94-.94-2.06-.94 2.06-2.06.94zm-11 1L8.5 8.5l.94-2.06 2.06-.94-2.06-.94L8.5 2.5l-.94 2.06-2.06.94zm10 10l.94 2.06.94-2.06 2.06-.94-2.06-.94-.94-2.06-.94 2.06-2.06.94z\"/><path d=\"M17.41 7.96l-1.37-1.37c-.4-.4-.92-.59-1.43-.59-.52 0-1.04.2-1.43.59L10.3 9.45l-7.72 7.72c-.78.78-.78 2.05 0 2.83L4 21.41c.39.39.9.59 1.41.59.51 0 1.02-.2 1.41-.59l7.78-7.78 2.81-2.81c.8-.78.8-2.07 0-2.86zM5.41 20L4 18.59l7.72-7.72 1.47 1.35L5.41 20z\"/>\n",
              "  </svg>\n",
              "      </button>\n",
              "      \n",
              "  <style>\n",
              "    .colab-df-container {\n",
              "      display:flex;\n",
              "      flex-wrap:wrap;\n",
              "      gap: 12px;\n",
              "    }\n",
              "\n",
              "    .colab-df-convert {\n",
              "      background-color: #E8F0FE;\n",
              "      border: none;\n",
              "      border-radius: 50%;\n",
              "      cursor: pointer;\n",
              "      display: none;\n",
              "      fill: #1967D2;\n",
              "      height: 32px;\n",
              "      padding: 0 0 0 0;\n",
              "      width: 32px;\n",
              "    }\n",
              "\n",
              "    .colab-df-convert:hover {\n",
              "      background-color: #E2EBFA;\n",
              "      box-shadow: 0px 1px 2px rgba(60, 64, 67, 0.3), 0px 1px 3px 1px rgba(60, 64, 67, 0.15);\n",
              "      fill: #174EA6;\n",
              "    }\n",
              "\n",
              "    [theme=dark] .colab-df-convert {\n",
              "      background-color: #3B4455;\n",
              "      fill: #D2E3FC;\n",
              "    }\n",
              "\n",
              "    [theme=dark] .colab-df-convert:hover {\n",
              "      background-color: #434B5C;\n",
              "      box-shadow: 0px 1px 3px 1px rgba(0, 0, 0, 0.15);\n",
              "      filter: drop-shadow(0px 1px 2px rgba(0, 0, 0, 0.3));\n",
              "      fill: #FFFFFF;\n",
              "    }\n",
              "  </style>\n",
              "\n",
              "      <script>\n",
              "        const buttonEl =\n",
              "          document.querySelector('#df-064196b5-8176-4a7d-9a79-db041cfbab45 button.colab-df-convert');\n",
              "        buttonEl.style.display =\n",
              "          google.colab.kernel.accessAllowed ? 'block' : 'none';\n",
              "\n",
              "        async function convertToInteractive(key) {\n",
              "          const element = document.querySelector('#df-064196b5-8176-4a7d-9a79-db041cfbab45');\n",
              "          const dataTable =\n",
              "            await google.colab.kernel.invokeFunction('convertToInteractive',\n",
              "                                                     [key], {});\n",
              "          if (!dataTable) return;\n",
              "\n",
              "          const docLinkHtml = 'Like what you see? Visit the ' +\n",
              "            '<a target=\"_blank\" href=https://colab.research.google.com/notebooks/data_table.ipynb>data table notebook</a>'\n",
              "            + ' to learn more about interactive tables.';\n",
              "          element.innerHTML = '';\n",
              "          dataTable['output_type'] = 'display_data';\n",
              "          await google.colab.output.renderOutput(dataTable, element);\n",
              "          const docLink = document.createElement('div');\n",
              "          docLink.innerHTML = docLinkHtml;\n",
              "          element.appendChild(docLink);\n",
              "        }\n",
              "      </script>\n",
              "    </div>\n",
              "  </div>\n",
              "  "
            ],
            "text/plain": [
              "      num_critic_for_reviews  duration  ...  aspect_ratio  movie_facebook_likes\n",
              "0                   4.501308  2.991649  ...     -0.937662              1.101870\n",
              "1                   1.090623  2.594188  ...      0.676973             -0.435872\n",
              "2                   3.521040  1.666778  ...      0.676973              3.524979\n",
              "3                   5.230433  2.373376  ...      0.676973              7.206241\n",
              "5                   2.386845  0.960179  ...      0.676973              0.682486\n",
              "...                      ...       ...  ...           ...                   ...\n",
              "5026               -0.699785 -0.011393  ...      0.676973             -0.427904\n",
              "5027               -0.837508 -0.894641  ...     -0.739374             -0.403393\n",
              "5033               -0.197498 -1.468752  ...     -0.739374              0.449495\n",
              "5035               -0.902319 -1.292103  ...     -2.099066             -0.435872\n",
              "5042               -1.007637 -0.894641  ...     -0.739374             -0.414623\n",
              "\n",
              "[3756 rows x 16 columns]"
            ]
          },
          "metadata": {},
          "execution_count": 26
        }
      ]
    },
    {
      "cell_type": "code",
      "source": [
        "#use z score for all columns in the new data frame \n",
        "movies_Zscore = movies_num[(np.abs(movies_num[numeric_cols].apply(zscore))<=3).all(axis=1)]\n",
        "print (\"shape after rejecting outliers: \")\n",
        "print(movies_Zscore.shape)\n",
        "movies_Zscore_usr_rev = movies_num[(np.abs(stats.zscore(movies_num[['num_user_for_reviews']]))<=3).all(axis=1)]\n",
        "print (type(movies_Zscore_usr_rev))\n"
      ],
      "metadata": {
        "colab": {
          "base_uri": "https://localhost:8080/"
        },
        "id": "rmV-t91YPrbL",
        "outputId": "bdfbf393-be28-435f-f236-3e4aa4bfb6d3"
      },
      "execution_count": null,
      "outputs": [
        {
          "output_type": "stream",
          "name": "stdout",
          "text": [
            "shape after rejecting outliers: \n",
            "(3113, 17)\n",
            "<class 'pandas.core.frame.DataFrame'>\n"
          ]
        }
      ]
    },
    {
      "cell_type": "code",
      "source": [
        ""
      ],
      "metadata": {
        "id": "gn7yip-5cFhs"
      },
      "execution_count": null,
      "outputs": []
    },
    {
      "cell_type": "markdown",
      "source": [
        "After removing Outlier\n"
      ],
      "metadata": {
        "id": "ZW7NbB4ScPmD"
      }
    },
    {
      "cell_type": "code",
      "metadata": {
        "id": "QmkE3d79adDq",
        "colab": {
          "base_uri": "https://localhost:8080/",
          "height": 705
        },
        "outputId": "fdc79fa5-579d-4ba8-db0d-c18ea7bb3603"
      },
      "source": [
        "fig = plt.figure(figsize=(12,8))\n",
        "plt.subplot(1,2,1)\n",
        "sns.boxplot(x=movies_df['num_user_for_reviews'], color='lime')\n",
        "plt.xlabel('No. of Actors Featured in Poster (After Using Z Score)', fontsize=14)\n",
        "plt.subplot(1,2,2)\n",
        "sns.distplot(movies_df_Zscore['num_user_for_reviews'], color='lime')\n",
        "plt.tight_layout()\n",
        "plt.show()"
      ],
      "execution_count": null,
      "outputs": [
        {
          "output_type": "error",
          "ename": "NameError",
          "evalue": "ignored",
          "traceback": [
            "\u001b[0;31m---------------------------------------------------------------------------\u001b[0m",
            "\u001b[0;31mNameError\u001b[0m                                 Traceback (most recent call last)",
            "\u001b[0;32m<ipython-input-28-199147be3e27>\u001b[0m in \u001b[0;36m<module>\u001b[0;34m()\u001b[0m\n\u001b[1;32m      1\u001b[0m \u001b[0mfig\u001b[0m \u001b[0;34m=\u001b[0m \u001b[0mplt\u001b[0m\u001b[0;34m.\u001b[0m\u001b[0mfigure\u001b[0m\u001b[0;34m(\u001b[0m\u001b[0mfigsize\u001b[0m\u001b[0;34m=\u001b[0m\u001b[0;34m(\u001b[0m\u001b[0;36m12\u001b[0m\u001b[0;34m,\u001b[0m\u001b[0;36m8\u001b[0m\u001b[0;34m)\u001b[0m\u001b[0;34m)\u001b[0m\u001b[0;34m\u001b[0m\u001b[0;34m\u001b[0m\u001b[0m\n\u001b[1;32m      2\u001b[0m \u001b[0mplt\u001b[0m\u001b[0;34m.\u001b[0m\u001b[0msubplot\u001b[0m\u001b[0;34m(\u001b[0m\u001b[0;36m1\u001b[0m\u001b[0;34m,\u001b[0m\u001b[0;36m2\u001b[0m\u001b[0;34m,\u001b[0m\u001b[0;36m1\u001b[0m\u001b[0;34m)\u001b[0m\u001b[0;34m\u001b[0m\u001b[0;34m\u001b[0m\u001b[0m\n\u001b[0;32m----> 3\u001b[0;31m \u001b[0msns\u001b[0m\u001b[0;34m.\u001b[0m\u001b[0mboxplot\u001b[0m\u001b[0;34m(\u001b[0m\u001b[0mx\u001b[0m\u001b[0;34m=\u001b[0m\u001b[0mmovies_df\u001b[0m\u001b[0;34m[\u001b[0m\u001b[0;34m'num_user_for_reviews'\u001b[0m\u001b[0;34m]\u001b[0m\u001b[0;34m,\u001b[0m \u001b[0mcolor\u001b[0m\u001b[0;34m=\u001b[0m\u001b[0;34m'lime'\u001b[0m\u001b[0;34m)\u001b[0m\u001b[0;34m\u001b[0m\u001b[0;34m\u001b[0m\u001b[0m\n\u001b[0m\u001b[1;32m      4\u001b[0m \u001b[0mplt\u001b[0m\u001b[0;34m.\u001b[0m\u001b[0mxlabel\u001b[0m\u001b[0;34m(\u001b[0m\u001b[0;34m'No. of Actors Featured in Poster (After Using Z Score)'\u001b[0m\u001b[0;34m,\u001b[0m \u001b[0mfontsize\u001b[0m\u001b[0;34m=\u001b[0m\u001b[0;36m14\u001b[0m\u001b[0;34m)\u001b[0m\u001b[0;34m\u001b[0m\u001b[0;34m\u001b[0m\u001b[0m\n\u001b[1;32m      5\u001b[0m \u001b[0mplt\u001b[0m\u001b[0;34m.\u001b[0m\u001b[0msubplot\u001b[0m\u001b[0;34m(\u001b[0m\u001b[0;36m1\u001b[0m\u001b[0;34m,\u001b[0m\u001b[0;36m2\u001b[0m\u001b[0;34m,\u001b[0m\u001b[0;36m2\u001b[0m\u001b[0;34m)\u001b[0m\u001b[0;34m\u001b[0m\u001b[0;34m\u001b[0m\u001b[0m\n",
            "\u001b[0;31mNameError\u001b[0m: name 'movies_df' is not defined"
          ]
        },
        {
          "output_type": "display_data",
          "data": {
            "image/png": "[encoded data removed]",
            "text/plain": [
              "<Figure size 864x576 with 1 Axes>"
            ]
          },
          "metadata": {
            "needs_background": "light"
          }
        }
      ]
    }
  ]
}