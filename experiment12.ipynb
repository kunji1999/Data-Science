{
  "nbformat": 4,
  "nbformat_minor": 0,
  "metadata": {
    "colab": {
      "name": "experiment12.ipynb",
      "provenance": [],
      "authorship_tag": "ABX9TyO3L6O0ggLKIipRlyVnqp+r",
      "include_colab_link": true
    },
    "kernelspec": {
      "name": "python3",
      "display_name": "Python 3"
    },
    "language_info": {
      "name": "python"
    }
  },
  "cells": [
    {
      "cell_type": "markdown",
      "metadata": {
        "id": "view-in-github",
        "colab_type": "text"
      },
      "source": [
        "<a href=\"https://colab.research.google.com/github/kunji1999/Data-Science/blob/main/experiment12.ipynb\" target=\"_parent\"><img src=\"https://colab.research.google.com/assets/colab-badge.svg\" alt=\"Open In Colab\"/></a>"
      ]
    },
    {
      "cell_type": "code",
      "source": [
        "import bs4\n",
        "from urllib.request import urlopen\n",
        "from bs4 import BeautifulSoup as soup\n",
        "\n",
        "my_url = 'https://www.newegg.com/Video-Cards-Video-Devices/Category/ID-38?Tpk=graphics%20card'\n",
        "\n",
        "# opening url and grabbing the web page\n",
        "uClient = urlopen(my_url)\n",
        "page_html = uClient.read()\n",
        "uClient.close()\n",
        "\n",
        "# html parsing\n",
        "page_soup = soup(page_html, 'html.parser')\n",
        "\n",
        "# grabbing all containers with class name = item-container\n",
        "containers = page_soup.findAll('div', {'class':'item-container'})\n",
        "\n",
        "filename = \"products.csv\"\n",
        "f = open(filename, 'w')\n",
        "\n",
        "headers = \"brands, product_name, shipping\\n\"\n",
        "\n",
        "f.write(headers)\n",
        "\n",
        "container = containers[1]\n",
        "\n",
        "for container in containers:\n",
        "    brand = container.div.div.a.img['title']\n",
        "    title_container = container.findAll('a', {'class':'item-title'})\n",
        "    product_name = title_container[0].text\n",
        "    ship_container = container.findAll('li', {'class':'price-ship'})\n",
        "    # use strip() to remove blank spaces before and after text\n",
        "    shipping = ship_container[0].text.strip()\n",
        "\n",
        "    print(\"brand:\" + brand)\n",
        "    print(\"product_name:\" + product_name)\n",
        "    print(\"shipping:\" + shipping)\n",
        "\n",
        "    f.write(brand + ',' + product_name.replace(',' , '|') + ',' + shipping + '\\n')\n",
        "\n",
        "f.close()"
      ],
      "metadata": {
        "colab": {
          "base_uri": "https://localhost:8080/"
        },
        "id": "vbZ5fXDDpvlC",
        "outputId": "0b846ee6-b596-4495-97cd-c742445004d9"
      },
      "execution_count": 13,
      "outputs": [
        {
          "output_type": "stream",
          "name": "stdout",
          "text": [
            "brand:ASUS\n",
            "product_name:ASUS Dual Radeon RX 6500 XT Video Card DUAL-RX6500XT-O4G\n",
            "shipping:$9.99 Shipping\n",
            "brand:ASUS\n",
            "product_name:ASUS Phoenix GeForce RTX 3050 Video Card PH-RTX3050-8G\n",
            "shipping:\n",
            "brand:ASUS\n",
            "product_name:ASUS Dual GeForce RTX 3050 Video Card DUAL-RTX3050-O8G\n",
            "shipping:$9.99 Shipping\n",
            "brand:EVGA\n",
            "product_name:EVGA GeForce RTX 3050 XC BLACK GAMING Video Card, 08G-P5-3551-KR, 8GB GDDR6, Dual-Fan\n",
            "shipping:$9.99 Shipping\n",
            "brand:GIGABYTE\n",
            "product_name:GIGABYTE Eagle GeForce RTX 3050 Video Card GV-N3050EAGLE-8GD\n",
            "shipping:$9.99 Shipping\n",
            "brand:MSI\n",
            "product_name:MSI Ventus GeForce RTX 3050 Video Card RTX 3050 Ventus 2X 8G\n",
            "shipping:$9.99 Shipping\n",
            "brand:ZOTAC\n",
            "product_name:ZOTAC GAMING GeForce RTX 3050 Twin Edge 8GB GDDR6 128-bit 14 Gbps PCIE 4.0 Gaming Graphics Card, IceStorm 2.0 Advanced Cooling, FREEZE Fan Stop, Active Fan Control, ZT-A30500E-10M\n",
            "shipping:$9.99 Shipping\n",
            "brand:ASUS\n",
            "product_name:ASUS ROG Strix GeForce RTX 3050 Video Card ROG-STRIX-RTX3050-O8G-GAMING\n",
            "shipping:$9.99 Shipping\n",
            "brand:MSI\n",
            "product_name:MSI Ventus GeForce RTX 3080 Ti Video Card RTX 3080 Ti VENTUS 3X 12G\n",
            "shipping:$9.99 Shipping\n",
            "brand:EVGA\n",
            "product_name:EVGA GeForce RTX 3080 Ti XC3 GAMING Video Card, 12G-P5-3953-KR, 12GB GDDR6X, iCX3 Cooling, ARGB LED, Metal Backplate\n",
            "shipping:\n",
            "brand:ASUS\n",
            "product_name:ASUS ROG Strix NVIDIA GeForce RTX 3080 OC Edition Gaming Graphics Card (PCIe 4.0, 12GB GDDR6X, LHR, HDMI 2.1, DisplayPort 1.4a, Axial-tech Fan Design, 2.9-slot, Super Alloy Power II, GPU Tweak II)\n",
            "shipping:$9.99 Shipping\n",
            "brand:ASUS\n",
            "product_name:ASUS Noctua OC Edition GeForce RTX 3070 Video Card RTX3070-O8G-NOCTUA (LHR)\n",
            "shipping:$9.99 Shipping\n"
          ]
        }
      ]
    },
    {
      "cell_type": "code",
      "source": [
        ""
      ],
      "metadata": {
        "id": "X6IQzVh6pvkB"
      },
      "execution_count": null,
      "outputs": []
    }
  ]
}