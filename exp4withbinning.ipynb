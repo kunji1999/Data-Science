{
  "nbformat": 4,
  "nbformat_minor": 0,
  "metadata": {
    "colab": {
      "name": "Untitled10.ipynb",
      "provenance": [],
      "authorship_tag": "ABX9TyNoV5z9B6anzuUB0jJVbL+m",
      "include_colab_link": true
    },
    "kernelspec": {
      "name": "python3",
      "display_name": "Python 3"
    },
    "language_info": {
      "name": "python"
    }
  },
  "cells": [
    {
      "cell_type": "markdown",
      "metadata": {
        "id": "view-in-github",
        "colab_type": "text"
      },
      "source": [
        "<a href=\"https://colab.research.google.com/github/kunji1999/Data-Science/blob/main/exp4withbinning.ipynb\" target=\"_parent\"><img src=\"https://colab.research.google.com/assets/colab-badge.svg\" alt=\"Open In Colab\"/></a>"
      ]
    },
    {
      "cell_type": "code",
      "execution_count": 2,
      "metadata": {
        "colab": {
          "base_uri": "https://localhost:8080/"
        },
        "id": "tz2DB2Db1ZuG",
        "outputId": "ddde3d53-0d63-4833-9a8f-1e7e99387cef"
      },
      "outputs": [
        {
          "output_type": "stream",
          "name": "stdout",
          "text": [
            "  imdb_title_id  ... reviews_from_critics\n",
            "0     tt0000009  ...                  2.0\n",
            "1     tt0000574  ...                  7.0\n",
            "2     tt0001892  ...                  2.0\n",
            "3     tt0002101  ...                  3.0\n",
            "4     tt0002130  ...                 14.0\n",
            "\n",
            "[5 rows x 22 columns]\n"
          ]
        }
      ],
      "source": [
        "import pandas as pd\n",
        "import numpy as np\n",
        "import matplotlib.pyplot as plt\n",
        "import seaborn as sns\n",
        "from scipy import stats\n",
        "\n",
        "movies=pd.read_csv(\"IMDb movies.csv\")\n",
        "print(movies.head(5))"
      ]
    },
    {
      "cell_type": "code",
      "source": [
        "#clean the dataset by dropping the values\n",
        "clean_movies=movies.dropna(how='any')\n",
        "movies=movies.dropna(how='any')\n",
        "print(clean_movies)\n"
      ],
      "metadata": {
        "colab": {
          "base_uri": "https://localhost:8080/"
        },
        "id": "w-ZeqlRd2M-c",
        "outputId": "323dc27e-55ca-4b30-fd1e-28e159285222"
      },
      "execution_count": 3,
      "outputs": [
        {
          "output_type": "stream",
          "name": "stdout",
          "text": [
            "      imdb_title_id  ... reviews_from_critics\n",
            "506       tt0017136  ...                208.0\n",
            "1048      tt0021749  ...                122.0\n",
            "2454      tt0027977  ...                115.0\n",
            "2795      tt0029453  ...                 55.0\n",
            "2827      tt0029583  ...                173.0\n",
            "...             ...  ...                  ...\n",
            "15131     tt0067588  ...                 73.0\n",
            "15242     tt0067866  ...                147.0\n",
            "15271     tt0067927  ...                110.0\n",
            "15302     tt0067992  ...                 89.0\n",
            "15431     tt0068408  ...                 71.0\n",
            "\n",
            "[116 rows x 22 columns]\n"
          ]
        }
      ]
    },
    {
      "cell_type": "code",
      "source": [
        "#check the column names\n",
        "print(\"column names:%s\"%movies.columns.values)\n",
        "\n",
        "\n",
        "\n"
      ],
      "metadata": {
        "colab": {
          "base_uri": "https://localhost:8080/"
        },
        "id": "qHPWUHdy2WWD",
        "outputId": "612346de-fe98-45c9-ee61-651808eb23c4"
      },
      "execution_count": 4,
      "outputs": [
        {
          "output_type": "stream",
          "name": "stdout",
          "text": [
            "column names:['imdb_title_id' 'title' 'original_title' 'year' 'date_published' 'genre'\n",
            " 'duration' 'country' 'language' 'director' 'writer' 'production_company'\n",
            " 'actors' 'description' 'avg_vote' 'votes' 'budget' 'usa_gross_income'\n",
            " 'worlwide_gross_income' 'metascore' 'reviews_from_users'\n",
            " 'reviews_from_critics']\n"
          ]
        }
      ]
    },
    {
      "cell_type": "code",
      "source": [
        "#discriptive ststistics\n",
        "print(movies.describe())\n"
      ],
      "metadata": {
        "colab": {
          "base_uri": "https://localhost:8080/"
        },
        "id": "jZviSNL62Xz7",
        "outputId": "36c220f1-f902-479b-c7f7-ef09e03f6072"
      },
      "execution_count": 5,
      "outputs": [
        {
          "output_type": "stream",
          "name": "stdout",
          "text": [
            "              year    duration  ...  reviews_from_users  reviews_from_critics\n",
            "count   116.000000  116.000000  ...          116.000000            116.000000\n",
            "mean   1961.086207  123.051724  ...          356.672414            114.577586\n",
            "std      10.919125   35.649220  ...          335.055992             49.575967\n",
            "min    1927.000000   74.000000  ...           29.000000             26.000000\n",
            "25%    1954.750000   97.500000  ...          155.000000             80.000000\n",
            "50%    1964.000000  114.500000  ...          291.500000            115.000000\n",
            "75%    1969.000000  139.750000  ...          396.750000            138.500000\n",
            "max    2001.000000  238.000000  ...         2163.000000            267.000000\n",
            "\n",
            "[8 rows x 7 columns]\n"
          ]
        }
      ]
    },
    {
      "cell_type": "code",
      "source": [
        "#check the null data\n",
        "print(\"null values:\\n\")\n",
        "print(movies.isna())"
      ],
      "metadata": {
        "colab": {
          "base_uri": "https://localhost:8080/"
        },
        "id": "tiazy8xU2dVr",
        "outputId": "07f233ce-f27d-4a6a-d90e-79905e77c5fd"
      },
      "execution_count": 6,
      "outputs": [
        {
          "output_type": "stream",
          "name": "stdout",
          "text": [
            "null values:\n",
            "\n",
            "       imdb_title_id  title  ...  reviews_from_users  reviews_from_critics\n",
            "506            False  False  ...               False                 False\n",
            "1048           False  False  ...               False                 False\n",
            "2454           False  False  ...               False                 False\n",
            "2795           False  False  ...               False                 False\n",
            "2827           False  False  ...               False                 False\n",
            "...              ...    ...  ...                 ...                   ...\n",
            "15131          False  False  ...               False                 False\n",
            "15242          False  False  ...               False                 False\n",
            "15271          False  False  ...               False                 False\n",
            "15302          False  False  ...               False                 False\n",
            "15431          False  False  ...               False                 False\n",
            "\n",
            "[116 rows x 22 columns]\n"
          ]
        }
      ]
    },
    {
      "cell_type": "code",
      "source": [
        "print(movies.isna().sum())"
      ],
      "metadata": {
        "colab": {
          "base_uri": "https://localhost:8080/"
        },
        "id": "JJSzSY4i2eli",
        "outputId": "90648e48-9cd7-428b-dcf3-b74ec59c7739"
      },
      "execution_count": 7,
      "outputs": [
        {
          "output_type": "stream",
          "name": "stdout",
          "text": [
            "imdb_title_id            0\n",
            "title                    0\n",
            "original_title           0\n",
            "year                     0\n",
            "date_published           0\n",
            "genre                    0\n",
            "duration                 0\n",
            "country                  0\n",
            "language                 0\n",
            "director                 0\n",
            "writer                   0\n",
            "production_company       0\n",
            "actors                   0\n",
            "description              0\n",
            "avg_vote                 0\n",
            "votes                    0\n",
            "budget                   0\n",
            "usa_gross_income         0\n",
            "worlwide_gross_income    0\n",
            "metascore                0\n",
            "reviews_from_users       0\n",
            "reviews_from_critics     0\n",
            "dtype: int64\n"
          ]
        }
      ]
    },
    {
      "cell_type": "code",
      "source": [
        "print(\"\\nnull values:%s\\n\" %movies.isnull().values.any())"
      ],
      "metadata": {
        "colab": {
          "base_uri": "https://localhost:8080/"
        },
        "id": "bCIIzVVR2i4L",
        "outputId": "7c09620a-8a61-4b42-dcf9-ad164a78f80c"
      },
      "execution_count": 8,
      "outputs": [
        {
          "output_type": "stream",
          "name": "stdout",
          "text": [
            "\n",
            "null values:False\n",
            "\n"
          ]
        }
      ]
    },
    {
      "cell_type": "code",
      "source": [
        "print(\"\\ntotal null values %d\\n\" %movies.isna().sum().sum())"
      ],
      "metadata": {
        "colab": {
          "base_uri": "https://localhost:8080/"
        },
        "id": "QKLPrxJK2n7z",
        "outputId": "fabe5bdf-fe0c-4e0f-86ec-89d3a9d1e047"
      },
      "execution_count": 9,
      "outputs": [
        {
          "output_type": "stream",
          "name": "stdout",
          "text": [
            "\n",
            "total null values 0\n",
            "\n"
          ]
        }
      ]
    },
    {
      "cell_type": "code",
      "source": [
        "movies.duplicated()"
      ],
      "metadata": {
        "colab": {
          "base_uri": "https://localhost:8080/"
        },
        "id": "PwoM0S064lw0",
        "outputId": "0cf7a813-3060-4a64-8ed7-6a963e3ccad2"
      },
      "execution_count": 10,
      "outputs": [
        {
          "output_type": "execute_result",
          "data": {
            "text/plain": [
              "506      False\n",
              "1048     False\n",
              "2454     False\n",
              "2795     False\n",
              "2827     False\n",
              "         ...  \n",
              "15131    False\n",
              "15242    False\n",
              "15271    False\n",
              "15302    False\n",
              "15431    False\n",
              "Length: 116, dtype: bool"
            ]
          },
          "metadata": {},
          "execution_count": 10
        }
      ]
    },
    {
      "cell_type": "code",
      "source": [
        "#Binning by distance\n",
        "min_value = movies['duration'].min()\n",
        "max_value = movies['duration'].max()\n",
        "print(min_value)\n",
        "print(max_value)"
      ],
      "metadata": {
        "colab": {
          "base_uri": "https://localhost:8080/"
        },
        "id": "t48Zru736_21",
        "outputId": "61f3df7b-eea9-4d14-993c-2ca47b4ced6b"
      },
      "execution_count": 12,
      "outputs": [
        {
          "output_type": "stream",
          "name": "stdout",
          "text": [
            "74\n",
            "238\n"
          ]
        }
      ]
    },
    {
      "cell_type": "code",
      "source": [
        "import numpy as np\n",
        "bins = np.linspace(min_value,max_value,4)\n",
        "bins"
      ],
      "metadata": {
        "colab": {
          "base_uri": "https://localhost:8080/"
        },
        "id": "kgiIiQea7u7V",
        "outputId": "34bf4ad7-070d-41a4-919b-21f722488f17"
      },
      "execution_count": 13,
      "outputs": [
        {
          "output_type": "execute_result",
          "data": {
            "text/plain": [
              "array([ 74.        , 128.66666667, 183.33333333, 238.        ])"
            ]
          },
          "metadata": {},
          "execution_count": 13
        }
      ]
    }
  ]
}